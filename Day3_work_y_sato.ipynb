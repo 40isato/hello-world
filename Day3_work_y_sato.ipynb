{
 "cells": [
  {
   "cell_type": "markdown",
   "metadata": {},
   "source": [
    "## Day1課題_ロジスティック回帰 : Kickstarter Projects\n",
    "- 実際のデータを使ってロジスティック回帰を行う\n",
    "\n",
    "クラウドファンディング愛好家が出したKickstarterというサイトで  \n",
    "行われたクラウドファンディングの過去のデータを基に成功失敗の分類を予測する。  \n",
    "\n",
    "- ID：クラウドファンディングの個別ID\n",
    "- name：クラウドファンディングの名前\n",
    "- category：詳細なカテゴリー\n",
    "- main_category：大まかなカテゴリー\n",
    "- currency ：使用された通貨\n",
    "- deadline：締め切り日時\n",
    "- goal：目標調達資金額\n",
    "- launched：開始した日時\n",
    "- pledged：集まった資金（運用後は後から分かる変数）\n",
    "- state：プロジェクトの状態(成功、失敗、キャンセルなど)＝＞教師ありデータ\n",
    "- backer：集まった支援者（運用後は後から分かる変数）\n",
    "- country：プロジェクトが開かれた国\n",
    "- usd pledged： 集まった資金の米ドル換算（運用後は後から分かる変数）\n",
    "\n",
    "目的変数を「state」にして、説明変数をその他全てとして検討する。"
   ]
  },
  {
   "cell_type": "code",
   "execution_count": 3,
   "metadata": {},
   "outputs": [],
   "source": [
    "#import\n",
    "%matplotlib inline\n",
    "import pandas as pd\n",
    "import numpy as np\n",
    "import matplotlib.pyplot as plt\n",
    "import seaborn as sns\n",
    "#from sklearn.linear_model import LinearRegression\n",
    "from sklearn.linear_model import SGDClassifier\n",
    "from sklearn.metrics import log_loss, accuracy_score, confusion_matrix\n",
    "# 回帰問題における性能評価に関する関数\n",
    "from sklearn.metrics import accuracy_score, precision_recall_fscore_support, confusion_matrix \n",
    "\n",
    "from sklearn.preprocessing import StandardScaler #preprocessing：前処理  StandardScaler：標準化\n",
    "from sklearn.model_selection import train_test_split #データを訓練データとテストデータに分割する\n",
    "from sklearn.linear_model import SGDClassifier #クラス分類をする\n",
    "\n",
    "from sklearn import preprocessing\n",
    "\n",
    "from sklearn.model_selection import cross_val_score, KFold\n",
    "from scipy.stats import sem\n",
    "\n",
    "from sklearn.svm import SVC\n",
    "from sklearn.model_selection import GridSearchCV"
   ]
  },
  {
   "cell_type": "markdown",
   "metadata": {},
   "source": [
    "## 各関数を定義\n",
    "### データ検討した結果を定義 => 検討内容は、ノートの後半"
   ]
  },
  {
   "cell_type": "code",
   "execution_count": 4,
   "metadata": {},
   "outputs": [],
   "source": [
    "#データの読み込みと基本データ修正\n",
    "def DataLoadAndBasicProcessing():\n",
    "    #データ読み取り\n",
    "    df = pd.read_csv(\"./ks-projects-201801.csv\")\n",
    "\n",
    "    #成功と失敗のデータのみにする\n",
    "    df = df[(df['state']=='successful')|(df['state']=='failed')]\n",
    "\n",
    "    #successfulは１に、それ以外は、０に変換\n",
    "    map_state_info = {'successful':1,'failed':0,'canceled':0,'suspended':0,'undefined':0,'live':0}\n",
    "    df['state_num'] = df['state'].map(map_state_info)\n",
    "\n",
    "    # goalのle8に固まっているデータを削除\n",
    "    df = df[(df['goal']<99000000)]\n",
    "    \n",
    "    return df"
   ]
  },
  {
   "cell_type": "code",
   "execution_count": 5,
   "metadata": {},
   "outputs": [],
   "source": [
    "#期間（日数）のカラムを作成して、作成元カラムを削除\n",
    "def makePeriod(df):\n",
    "    #期間取得\n",
    "    df['deadline'] = pd.to_datetime(df['deadline'], errors='coerce')\n",
    "    df['launched'] = pd.to_datetime(df['launched'], errors='coerce')\n",
    "    #df_kickstarter.head(10)\n",
    "\n",
    "    #期間をperiod列として追加\n",
    "    df['period'] = (df['deadline'] - df['launched']).dt.days\n",
    "    #df_kickstarter.head(10)\n",
    "\n",
    "    # 長い期間は外れ値として、行削除\n",
    "    df = df[(df['period']<2000)]\n",
    "    #periodのバンド化を試す\n",
    "    df['period'] = pd.cut(df[\"period\"],[0, 20, 40, 60, 80, 100, 20000],labels=range(6),right=False)\n",
    "    \n",
    "    #不要な列を削除\n",
    "    drop_colums = ['deadline','launched']\n",
    "    df = df.drop(drop_colums, axis = 1)\n",
    "\n",
    "    return df"
   ]
  },
  {
   "cell_type": "code",
   "execution_count": 6,
   "metadata": {},
   "outputs": [],
   "source": [
    "#ダミー変数加工\n",
    "#\n",
    "def ExecuteDummyValuse(df):\n",
    "    \n",
    "    df_dummy = pd.get_dummies(df['main_category'])\n",
    "    df = pd.concat([df,df_dummy],axis=1)\n",
    "    #df_dummy = pd.get_dummies(df['currency'])\n",
    "    #df = pd.concat([df_kickstarter,df_dummy],axis=1)  #t\n",
    "    df_dummy = pd.get_dummies(df['country'])\n",
    "    df = pd.concat([df,df_dummy],axis=1)\n",
    "    \n",
    "    #別データに変更したもの及び類似データを除去\n",
    "    drop_colums = ['country','currency','category','main_category']\n",
    "    df = df.drop(drop_colums, axis = 1)\n",
    "\n",
    "    ##国通貨に相関関係があるため、通貨を削除\n",
    "    #df = df.drop(drop_colums_currency, axis = 1)\n",
    "    \n",
    "    return df"
   ]
  },
  {
   "cell_type": "code",
   "execution_count": 7,
   "metadata": {},
   "outputs": [],
   "source": [
    "#不要なデータを削除\n",
    "def DropColums(df):\n",
    "    \n",
    "    #不要な列を削除\n",
    "    drop_colums = ['ID','name','pledged','backers','usd pledged','usd_pledged_real','usd_goal_real']\n",
    "    df = df.drop(drop_colums, axis = 1)\n",
    "\n",
    "    #別データに変更したもの\n",
    "    drop_colums = ['state']\n",
    "    df = df.drop(drop_colums, axis = 1)\n",
    "\n",
    "    return df"
   ]
  },
  {
   "cell_type": "code",
   "execution_count": 43,
   "metadata": {},
   "outputs": [],
   "source": [
    "# ロジスティック回帰の学習及び正答率計算及び混同行列表示の関数\n",
    "def LogisticRegressionCal(X_train, y_train, X_test, y_test, clf, stdscFlg):\n",
    "\n",
    "    #標準化:stdscFlg = 1 => 標準化する\n",
    "    if stdscFlg == 1:\n",
    "        #stdsc = StandardScaler()\n",
    "        #X_train = stdsc.fit_transform(X_train) #訓練データの標準化\n",
    "        #X_test = stdsc.transform(X_test) #テストデータの標準化\n",
    "        \n",
    "        #外れ値ありとして標準化\n",
    "        rscaler = preprocessing.RobustScaler(quantile_range=(25., 75.))        \n",
    "        X_train = rscaler.fit_transform(X_train) #訓練データの標準化\n",
    "        X_test = rscaler.transform(X_test) #テストデータの標準化\n",
    "    \n",
    "    #学習\n",
    "    clf.fit(X_train, y_train)\n",
    "\n",
    "    # 重みを取得して表示\n",
    "    w0 = clf.intercept_[0]\n",
    "    print('・重みを取得して表示')\n",
    "    print(w0,clf.coef_)\n",
    "    print('')\n",
    "\n",
    "    # ラベルを予測\n",
    "    y_pred = clf.predict(X_test)\n",
    "\n",
    "    # 正答率を計算\n",
    "    accuracy =  accuracy_score(y_test, y_pred)\n",
    "    print('・正答率を計算')\n",
    "    print('正答率（Accuracy） = {:.3f}%'.format(100 * accuracy))\n",
    "\n",
    "    # Precision, Recall, F1-scoreを計算\n",
    "    precision, recall, f1_score, _ = precision_recall_fscore_support(y_test, y_pred)\n",
    "\n",
    "    # カテゴリ「成功・失敗」に関するPrecision, Recall, F1-scoreを表示\n",
    "    print('適合率（Precision） = {:.3f}%'.format(100 * precision[1]))\n",
    "    print('再現率（Recall） = {:.3f}%'.format(100 * recall[1]))\n",
    "    print('F1値（F1-score） = {:.3f}%'.format(100 * f1_score[1]))\n",
    "    print('対数尤度 = {:.3f}'.format(- log_loss(y_test, y_pred)))\n",
    "    print('')\n",
    "\n",
    "    # 予測値と正解のクロス集計（混同行列）\n",
    "    conf_mat = confusion_matrix(y_test, y_pred)\n",
    "    conf_mat = pd.DataFrame(conf_mat, \n",
    "                            index=['正解 = 失敗', '正解 = 成功'], \n",
    "                            columns=['予測 = 失敗', '予測 = 成功'])\n",
    "    print('・予測値と正解のクロス集計（混同行列）')\n",
    "    print(conf_mat)\n",
    "    \n",
    "    #clf = SGDClassifier(loss='log', penalty='none', max_iter=10000, fit_intercept=True, random_state=1234, tol=1e-3)\n",
    "    #LogisticRegressionCal(X, y, X, y, clf)"
   ]
  },
  {
   "cell_type": "code",
   "execution_count": 56,
   "metadata": {},
   "outputs": [],
   "source": [
    "#クロスバリデーション関数\n",
    "def evaluate_cross_validation(clf, X, y, n_split):\n",
    "    #cv = KFold(n_splits=n_split, shuffle=True, random_state=1234)\n",
    "    #scores = cross_val_score(clf, X, y, cv=cv)\n",
    "    #print(scores)\n",
    "    #print (\"Mean score: {} (+/-{})\".format( np.mean (scores), sem(scores)))\n",
    "    \n",
    "    #n_split = 5 # グループ数を設定（今回は5分割）\n",
    "    \n",
    "    cross_valid_accuracy = 0\n",
    "    cross_valid_precision = 0\n",
    "    cross_valid_recall = 0\n",
    "    cross_valid_f1_score = 0\n",
    "    split_num = 1\n",
    "\n",
    "    # テスト役を交代させながら学習と評価を繰り返す\n",
    "    for train_idx, test_idx in KFold(n_splits=n_split, shuffle=True, random_state=1234).split(X, y):\n",
    "        X_train, y_train = X[train_idx], y[train_idx] #学習用データ\n",
    "        X_test, y_test = X[test_idx], y[test_idx]     #テスト用データ\n",
    "\n",
    "        # 学習用データを使ってモデルを学習：モデルをn_splitだけ作成\n",
    "        clf.fit(X_train, y_train)\n",
    "\n",
    "        # テストデータに対する予測を実行\n",
    "        y_pred = clf.predict(X_test)\n",
    "            \n",
    "        # 正答率を計算\n",
    "        accuracy =  accuracy_score(y_test, y_pred)\n",
    "        print('KFold:',split_num)\n",
    "        print('・正答率を計算')\n",
    "        print('正答率（Accuracy） = {:.3f}%'.format(100 * accuracy))\n",
    "\n",
    "        # Precision, Recall, F1-scoreを計算\n",
    "        precision, recall, f1_score, _ = precision_recall_fscore_support(y_test, y_pred)\n",
    "\n",
    "        # カテゴリ「成功・失敗」に関するPrecision, Recall, F1-scoreを表示\n",
    "        print('適合率（Precision） = {:.3f}%'.format(100 * precision[1]))\n",
    "        print('再現率（Recall） = {:.3f}%'.format(100 * recall[1]))\n",
    "        print('F1値（F1-score） = {:.3f}%'.format(100 * f1_score[1]))\n",
    "        print('対数尤度 = {:.3f}'.format(- log_loss(y_test, y_pred)))\n",
    "        print('')\n",
    "\n",
    "        # 予測値と正解のクロス集計（混同行列）\n",
    "        conf_mat = confusion_matrix(y_test, y_pred)\n",
    "        conf_mat = pd.DataFrame(conf_mat, \n",
    "                                index=['正解 = 失敗', '正解 = 成功'], \n",
    "                                columns=['予測 = 失敗', '予測 = 成功'])\n",
    "        print('・予測値と正解のクロス集計（混同行列）')\n",
    "        print(conf_mat)\n",
    "        print('--------------------------------------------------------------')\n",
    "    \n",
    "        cross_valid_accuracy += accuracy\n",
    "        cross_valid_precision += precision[1]\n",
    "        cross_valid_recall += recall[1]\n",
    "        cross_valid_f1_score += f1_score[1]\n",
    "        split_num += 1\n",
    "\n",
    "        \n",
    "    # それぞれの平均値を最終的な各評価値とする\n",
    "    accuracy = cross_valid_accuracy / n_split\n",
    "    final_precision = cross_valid_precision / n_split\n",
    "    final_recall = cross_valid_recall / n_split\n",
    "    final_f1_score = cross_valid_f1_score / n_split\n",
    "    #print(\"Cross Validation MAE = %s\"%round(final_mae, 3))\n",
    "    \n",
    "    print('--result---------------------------------')\n",
    "    print('正答率（Accuracy） = {:.3f}%'.format(100 * accuracy))\n",
    "    print('Cross Validation 適合率（Precision） = {:.3f}%'.format(100 * final_precision))\n",
    "    print('Cross Validation 再現率（Recall） = {:.3f}%'.format(100 * final_recall))\n",
    "    print('Cross Validation F1値（F1-score） = {:.3f}%'.format(100 * final_f1_score))"
   ]
  },
  {
   "cell_type": "code",
   "execution_count": 57,
   "metadata": {},
   "outputs": [],
   "source": [
    "#データ読み取り\n",
    "df = pd.read_csv(\"./ks-projects-201801.csv\")\n",
    "\n",
    "#成功と失敗のデータのみにする\n",
    "df = df[(df['state']=='successful')|(df['state']=='failed')]\n",
    "\n",
    "#successfulは１に、それ以外は、０に変換\n",
    "map_state_info = {'successful':1,'failed':0,'canceled':0,'suspended':0,'undefined':0,'live':0}\n",
    "df['state_num'] = df['state'].map(map_state_info)\n",
    "\n",
    "# goalのle8に固まっているデータを削除\n",
    "df = df[(df['goal']<99000000)]\n",
    "\n",
    "\n"
   ]
  },
  {
   "cell_type": "code",
   "execution_count": 58,
   "metadata": {},
   "outputs": [],
   "source": [
    "#読み取りとデータ加工\n",
    "df = DataLoadAndBasicProcessing()\n",
    "df = makePeriod(df)\n",
    "df = ExecuteDummyValuse(df)\n",
    "df = DropColums(df)"
   ]
  },
  {
   "cell_type": "code",
   "execution_count": 59,
   "metadata": {},
   "outputs": [
    {
     "name": "stdout",
     "output_type": "stream",
     "text": [
      "232151\n",
      "99494\n"
     ]
    }
   ],
   "source": [
    "#ロジスティック回帰：goalのみで検討\n",
    "y = df[\"state_num\"].values\n",
    "X = df[[\"goal\"]].values\n",
    "X_train, X_test, y_train, y_test = train_test_split(X, y, test_size=0.3, random_state=1234)\n",
    "\n",
    "print(len(X_train))\n",
    "print(len(X_test))"
   ]
  },
  {
   "cell_type": "code",
   "execution_count": 60,
   "metadata": {},
   "outputs": [
    {
     "name": "stdout",
     "output_type": "stream",
     "text": [
      "---関数の動作検証:対数なしと標準化なし----------------------------------\n",
      "・重みを取得して表示\n",
      "22773.1728979531 [[-39.28906647]]\n",
      "\n",
      "・正答率を計算\n",
      "正答率（Accuracy） = 60.924%\n",
      "適合率（Precision） = 56.137%\n",
      "再現率（Recall） = 12.874%\n",
      "F1値（F1-score） = 20.944%\n",
      "対数尤度 = -13.496\n",
      "\n",
      "・予測値と正解のクロス集計（混同行列）\n",
      "         予測 = 失敗  予測 = 成功\n",
      "正解 = 失敗    55466     4024\n",
      "正解 = 成功    34854     5150\n",
      "\n",
      "---関数の動作検証:対数なしと標準化あり----------------------------------\n",
      "・重みを取得して表示\n",
      "-0.23178037112818112 [[-0.21049634]]\n",
      "\n",
      "・正答率を計算\n",
      "正答率（Accuracy） = 59.793%\n",
      "適合率（Precision） = 0.000%\n",
      "再現率（Recall） = 0.000%\n",
      "F1値（F1-score） = 0.000%\n",
      "対数尤度 = -13.887\n",
      "\n",
      "・予測値と正解のクロス集計（混同行列）\n",
      "         予測 = 失敗  予測 = 成功\n",
      "正解 = 失敗    59490        0\n",
      "正解 = 成功    40004        0\n",
      "--- CrossValidation----------------------------------\n"
     ]
    },
    {
     "name": "stderr",
     "output_type": "stream",
     "text": [
      "/Users/satouyoshihisa/anaconda3/lib/python3.7/site-packages/sklearn/metrics/classification.py:1143: UndefinedMetricWarning: Precision and F-score are ill-defined and being set to 0.0 in labels with no predicted samples.\n",
      "  'precision', 'predicted', average, warn_for)\n"
     ]
    },
    {
     "name": "stdout",
     "output_type": "stream",
     "text": [
      "KFold: 1\n",
      "・正答率を計算\n",
      "正答率（Accuracy） = 59.172%\n",
      "適合率（Precision） = 100.000%\n",
      "再現率（Recall） = 0.005%\n",
      "F1値（F1-score） = 0.011%\n",
      "対数尤度 = -14.102\n",
      "\n",
      "・予測値と正解のクロス集計（混同行列）\n",
      "         予測 = 失敗  予測 = 成功\n",
      "正解 = 失敗    27473        0\n",
      "正解 = 成功    18957        1\n",
      "--------------------------------------------------------------\n",
      "KFold: 2\n",
      "・正答率を計算\n",
      "正答率（Accuracy） = 59.744%\n",
      "適合率（Precision） = 86.207%\n",
      "再現率（Recall） = 0.400%\n",
      "F1値（F1-score） = 0.796%\n",
      "対数尤度 = -13.904\n",
      "\n",
      "・予測値と正解のクロス集計（混同行列）\n",
      "         予測 = 失敗  予測 = 成功\n",
      "正解 = 失敗    27664       12\n",
      "正解 = 成功    18679       75\n",
      "--------------------------------------------------------------\n",
      "KFold: 3\n",
      "・正答率を計算\n",
      "正答率（Accuracy） = 59.871%\n",
      "適合率（Precision） = 83.117%\n",
      "再現率（Recall） = 0.343%\n",
      "F1値（F1-score） = 0.682%\n",
      "対数尤度 = -13.860\n",
      "\n",
      "・予測値と正解のクロス集計（混同行列）\n",
      "         予測 = 失敗  予測 = 成功\n",
      "正解 = 失敗    27734       13\n",
      "正解 = 成功    18619       64\n",
      "--------------------------------------------------------------\n",
      "KFold: 4\n",
      "・正答率を計算\n",
      "正答率（Accuracy） = 40.327%\n",
      "適合率（Precision） = 40.327%\n",
      "再現率（Recall） = 100.000%\n",
      "F1値（F1-score） = 57.476%\n",
      "対数尤度 = -20.611\n",
      "\n",
      "・予測値と正解のクロス集計（混同行列）\n",
      "         予測 = 失敗  予測 = 成功\n",
      "正解 = 失敗        0    27706\n",
      "正解 = 成功        0    18724\n",
      "--------------------------------------------------------------\n"
     ]
    },
    {
     "name": "stderr",
     "output_type": "stream",
     "text": [
      "/Users/satouyoshihisa/anaconda3/lib/python3.7/site-packages/sklearn/metrics/classification.py:1143: UndefinedMetricWarning: Precision and F-score are ill-defined and being set to 0.0 in labels with no predicted samples.\n",
      "  'precision', 'predicted', average, warn_for)\n"
     ]
    },
    {
     "name": "stdout",
     "output_type": "stream",
     "text": [
      "KFold: 5\n",
      "・正答率を計算\n",
      "正答率（Accuracy） = 59.563%\n",
      "適合率（Precision） = 67.470%\n",
      "再現率（Recall） = 0.595%\n",
      "F1値（F1-score） = 1.179%\n",
      "対数尤度 = -13.967\n",
      "\n",
      "・予測値と正解のクロス集計（混同行列）\n",
      "         予測 = 失敗  予測 = 成功\n",
      "正解 = 失敗    27543       54\n",
      "正解 = 成功    18721      112\n",
      "--------------------------------------------------------------\n",
      "--result---------------------------------\n",
      "正答率（Accuracy） = 55.735%\n",
      "Cross Validation 適合率（Precision） = 75.424%\n",
      "Cross Validation 再現率（Recall） = 20.268%\n",
      "Cross Validation F1値（F1-score） = 12.029%\n"
     ]
    }
   ],
   "source": [
    "#ロジスティック回帰：goalのみで検討\n",
    "print('---関数の動作検証:対数なしと標準化なし----------------------------------')\n",
    "clf = SGDClassifier(loss='log', penalty='none', max_iter=10000, fit_intercept=True, random_state=1234, tol=1e-3)\n",
    "LogisticRegressionCal(X_train, y_train, X_test, y_test, clf, 0)\n",
    "\n",
    "print('')\n",
    "print('---関数の動作検証:対数なしと標準化あり----------------------------------')\n",
    "clf = SGDClassifier(loss='log', penalty='none', max_iter=10000, fit_intercept=True, random_state=1234, tol=1e-3)\n",
    "LogisticRegressionCal(X_train, y_train, X_test, y_test, clf, 1)\n",
    "\n",
    "print('--- CrossValidation----------------------------------')\n",
    "clf = SGDClassifier(loss='log', penalty='none', max_iter=10000, fit_intercept=True, random_state=1234, tol=1e-3)\n",
    "evaluate_cross_validation(clf, X_train, y_train, 5)"
   ]
  },
  {
   "cell_type": "code",
   "execution_count": 30,
   "metadata": {},
   "outputs": [
    {
     "name": "stdout",
     "output_type": "stream",
     "text": [
      "232151\n",
      "99494\n"
     ]
    }
   ],
   "source": [
    "#ロジスティック回帰：goalのみで検討：対数あり\n",
    "y = df[\"state_num\"].values\n",
    "X = np.log(df[[\"goal\"]].values)\n",
    "X_train, X_test, y_train, y_test = train_test_split(X, y, test_size=0.3)\n",
    "\n",
    "print(len(X_train))\n",
    "print(len(X_test))"
   ]
  },
  {
   "cell_type": "code",
   "execution_count": 68,
   "metadata": {},
   "outputs": [
    {
     "name": "stdout",
     "output_type": "stream",
     "text": [
      "---関数の動作検証:対数なしと標準化なし----------------------------------\n",
      "・重みを取得して表示\n",
      "20714.14721907238 [[-143773.37255774]]\n",
      "\n",
      "・正答率を計算\n",
      "正答率（Accuracy） = 59.793%\n",
      "適合率（Precision） = 0.000%\n",
      "再現率（Recall） = 0.000%\n",
      "F1値（F1-score） = 0.000%\n",
      "対数尤度 = -13.887\n",
      "\n",
      "・予測値と正解のクロス集計（混同行列）\n",
      "         予測 = 失敗  予測 = 成功\n",
      "正解 = 失敗    59490        0\n",
      "正解 = 成功    40004        0\n",
      "\n",
      "---関数の動作検証:対数なしと標準化あり----------------------------------\n"
     ]
    },
    {
     "name": "stderr",
     "output_type": "stream",
     "text": [
      "/Users/satouyoshihisa/anaconda3/lib/python3.7/site-packages/sklearn/metrics/classification.py:1143: UndefinedMetricWarning: Precision and F-score are ill-defined and being set to 0.0 in labels with no predicted samples.\n",
      "  'precision', 'predicted', average, warn_for)\n"
     ]
    },
    {
     "name": "stdout",
     "output_type": "stream",
     "text": [
      "・重みを取得して表示\n",
      "-0.23179354896875135 [[-0.2104681]]\n",
      "\n",
      "・正答率を計算\n",
      "正答率（Accuracy） = 59.793%\n",
      "適合率（Precision） = 0.000%\n",
      "再現率（Recall） = 0.000%\n",
      "F1値（F1-score） = 0.000%\n",
      "対数尤度 = -13.887\n",
      "\n",
      "・予測値と正解のクロス集計（混同行列）\n",
      "         予測 = 失敗  予測 = 成功\n",
      "正解 = 失敗    59490        0\n",
      "正解 = 成功    40004        0\n",
      "--- CrossValidation----------------------------------\n"
     ]
    },
    {
     "name": "stderr",
     "output_type": "stream",
     "text": [
      "/Users/satouyoshihisa/anaconda3/lib/python3.7/site-packages/sklearn/metrics/classification.py:1143: UndefinedMetricWarning: Precision and F-score are ill-defined and being set to 0.0 in labels with no predicted samples.\n",
      "  'precision', 'predicted', average, warn_for)\n"
     ]
    },
    {
     "name": "stdout",
     "output_type": "stream",
     "text": [
      "KFold: 1\n",
      "・正答率を計算\n",
      "正答率（Accuracy） = 59.172%\n",
      "適合率（Precision） = 100.000%\n",
      "再現率（Recall） = 0.005%\n",
      "F1値（F1-score） = 0.011%\n",
      "対数尤度 = -14.102\n",
      "\n",
      "・予測値と正解のクロス集計（混同行列）\n",
      "         予測 = 失敗  予測 = 成功\n",
      "正解 = 失敗    27473        0\n",
      "正解 = 成功    18957        1\n",
      "--------------------------------------------------------------\n",
      "KFold: 2\n",
      "・正答率を計算\n",
      "正答率（Accuracy） = 59.744%\n",
      "適合率（Precision） = 86.207%\n",
      "再現率（Recall） = 0.400%\n",
      "F1値（F1-score） = 0.796%\n",
      "対数尤度 = -13.904\n",
      "\n",
      "・予測値と正解のクロス集計（混同行列）\n",
      "         予測 = 失敗  予測 = 成功\n",
      "正解 = 失敗    27664       12\n",
      "正解 = 成功    18679       75\n",
      "--------------------------------------------------------------\n",
      "KFold: 3\n",
      "・正答率を計算\n",
      "正答率（Accuracy） = 40.239%\n",
      "適合率（Precision） = 40.239%\n",
      "再現率（Recall） = 100.000%\n",
      "F1値（F1-score） = 57.386%\n",
      "対数尤度 = -20.641\n",
      "\n",
      "・予測値と正解のクロス集計（混同行列）\n",
      "         予測 = 失敗  予測 = 成功\n",
      "正解 = 失敗        0    27747\n",
      "正解 = 成功        0    18683\n",
      "--------------------------------------------------------------\n"
     ]
    },
    {
     "name": "stderr",
     "output_type": "stream",
     "text": [
      "/Users/satouyoshihisa/anaconda3/lib/python3.7/site-packages/sklearn/metrics/classification.py:1143: UndefinedMetricWarning: Precision and F-score are ill-defined and being set to 0.0 in labels with no predicted samples.\n",
      "  'precision', 'predicted', average, warn_for)\n"
     ]
    },
    {
     "name": "stdout",
     "output_type": "stream",
     "text": [
      "KFold: 4\n",
      "・正答率を計算\n",
      "正答率（Accuracy） = 59.770%\n",
      "適合率（Precision） = 80.000%\n",
      "再現率（Recall） = 0.320%\n",
      "F1値（F1-score） = 0.638%\n",
      "対数尤度 = -13.895\n",
      "\n",
      "・予測値と正解のクロス集計（混同行列）\n",
      "         予測 = 失敗  予測 = 成功\n",
      "正解 = 失敗    27691       15\n",
      "正解 = 成功    18664       60\n",
      "--------------------------------------------------------------\n",
      "KFold: 5\n",
      "・正答率を計算\n",
      "正答率（Accuracy） = 59.530%\n",
      "適合率（Precision） = 86.441%\n",
      "再現率（Recall） = 0.271%\n",
      "F1値（F1-score） = 0.540%\n",
      "対数尤度 = -13.978\n",
      "\n",
      "・予測値と正解のクロス集計（混同行列）\n",
      "         予測 = 失敗  予測 = 成功\n",
      "正解 = 失敗    27589        8\n",
      "正解 = 成功    18782       51\n",
      "--------------------------------------------------------------\n",
      "--result---------------------------------\n",
      "正答率（Accuracy） = 55.691%\n",
      "Cross Validation 適合率（Precision） = 78.577%\n",
      "Cross Validation 再現率（Recall） = 20.199%\n",
      "Cross Validation F1値（F1-score） = 11.874%\n"
     ]
    }
   ],
   "source": [
    "#ロジスティック回帰：goalのみで検討\n",
    "print('---関数の動作検証:対数なしと標準化なし----------------------------------')\n",
    "clf = SGDClassifier(loss='log', penalty='l2', max_iter=10000, fit_intercept=True, random_state=1234, tol=1e-3)\n",
    "LogisticRegressionCal(X_train, y_train, X_test, y_test, clf, 0)\n",
    "\n",
    "print('')\n",
    "print('---関数の動作検証:対数なしと標準化あり----------------------------------')\n",
    "clf = SGDClassifier(loss='log', penalty='l2', max_iter=10000, fit_intercept=True, random_state=1234, tol=1e-3)\n",
    "LogisticRegressionCal(X_train, y_train, X_test, y_test, clf, 1)\n",
    "\n",
    "print('--- CrossValidation----------------------------------')\n",
    "clf = SGDClassifier(loss='log', penalty='l2', max_iter=10000, fit_intercept=True, random_state=1234, tol=1e-3)\n",
    "evaluate_cross_validation(clf, X_train, y_train, 5)"
   ]
  },
  {
   "cell_type": "code",
   "execution_count": 32,
   "metadata": {},
   "outputs": [
    {
     "name": "stdout",
     "output_type": "stream",
     "text": [
      "232151\n",
      "99494\n"
     ]
    }
   ],
   "source": [
    "#ロジスティック回帰：全項目で検討\n",
    "y = df[\"state_num\"].values\n",
    "X = df.drop('state_num', axis=1).values\n",
    "X_train, X_test, y_train, y_test = train_test_split(X, y, test_size=0.3, random_state=1234)\n",
    "\n",
    "print(len(X_train))\n",
    "print(len(X_test))"
   ]
  },
  {
   "cell_type": "code",
   "execution_count": 33,
   "metadata": {},
   "outputs": [
    {
     "name": "stdout",
     "output_type": "stream",
     "text": [
      "---関数の動作検証:対数なしと標準化なし----------------------------------\n",
      "・重みを取得して表示\n",
      "21948.45868378983 [[-3.85945266e+04  2.25096053e+04  1.81826787e+03  1.10728416e+03\n",
      "   1.80041187e+02  4.54341621e+02  1.83183587e+03  7.29077966e+02\n",
      "   3.92035638e+03  8.53166739e+02  2.23394389e+03  1.05242384e+02\n",
      "   4.46837638e+03  4.85969814e+02  1.87776798e+03  6.13681825e+02\n",
      "   1.26910461e+03  6.05401451e+00  2.39657840e+02  1.70340220e+01\n",
      "   5.93586193e+02  2.15095778e+01  7.92165774e+01  6.34273739e+01\n",
      "   5.50462142e+01  1.77482940e+02  2.09623611e+03  3.51455352e+01\n",
      "   2.84415710e+01  2.95405501e+01  6.68952296e-01  3.37615121e+00\n",
      "   6.45811145e+01  2.00423427e+01  7.32261256e+01  1.12144928e+01\n",
      "   7.17070286e+01  6.49750734e+01  2.75866640e+01  1.81687022e+04]]\n",
      "\n",
      "・正答率を計算\n",
      "正答率（Accuracy） = 59.857%\n",
      "適合率（Precision） = 84.783%\n",
      "再現率（Recall） = 0.195%\n",
      "F1値（F1-score） = 0.389%\n",
      "\n",
      "・予測値と正解のクロス集計（混同行列）\n",
      "         予測 = 失敗  予測 = 成功\n",
      "正解 = 失敗    59476       14\n",
      "正解 = 成功    39926       78\n",
      "\n",
      "---関数の動作検証:対数なしと標準化あり----------------------------------\n",
      "・重みを取得して表示\n",
      "-0.18590800198604998 [[-1.98624610e-01 -3.22516983e-01  4.02812842e-02  6.69797547e-01\n",
      "  -7.20729980e-01  9.65080715e-01  1.87758059e-01 -5.38310375e-01\n",
      "   1.00508860e-01 -4.96547503e-01  1.67770269e-01 -7.58264693e-01\n",
      "   4.64757080e-01 -3.78762121e-01 -2.85746239e-01 -4.82342932e-01\n",
      "   8.78842027e-01 -7.44894718e-01 -2.60324377e-01 -3.05544176e-01\n",
      "  -1.43630477e-01 -1.50782326e-01 -4.41465358e-01  5.94977238e-01\n",
      "  -4.87922181e-01  8.22326828e-02  3.76642416e-04  1.49788061e+00\n",
      "  -3.75159290e-01 -8.17410946e-01  7.28861613e-01  9.66874053e-03\n",
      "   2.58361623e-01  1.99600191e-02 -4.13317916e-01  1.86858535e-01\n",
      "  -8.44727185e-02  5.52093083e-01  1.72355684e-01  1.21298010e-01]]\n",
      "\n",
      "・正答率を計算\n",
      "正答率（Accuracy） = 64.078%\n",
      "適合率（Precision） = 59.151%\n",
      "再現率（Recall） = 34.449%\n",
      "F1値（F1-score） = 43.540%\n",
      "\n",
      "・予測値と正解のクロス集計（混同行列）\n",
      "         予測 = 失敗  予測 = 成功\n",
      "正解 = 失敗    49973     9517\n",
      "正解 = 成功    26223    13781\n",
      "--- CrossValidation----------------------------------\n",
      "KFold: 1\n",
      "・正答率を計算\n",
      "正答率（Accuracy） = 59.172%\n",
      "適合率（Precision） = 100.000%\n",
      "再現率（Recall） = 0.005%\n",
      "F1値（F1-score） = 0.011%\n",
      "\n",
      "・予測値と正解のクロス集計（混同行列）\n",
      "         予測 = 失敗  予測 = 成功\n",
      "正解 = 失敗    27473        0\n",
      "正解 = 成功    18957        1\n",
      "--------------------------------------------------------------\n",
      "KFold: 2\n",
      "・正答率を計算\n",
      "正答率（Accuracy） = 60.097%\n",
      "適合率（Precision） = 57.623%\n",
      "再現率（Recall） = 4.575%\n",
      "F1値（F1-score） = 8.477%\n",
      "\n",
      "・予測値と正解のクロス集計（混同行列）\n",
      "         予測 = 失敗  予測 = 成功\n",
      "正解 = 失敗    27045      631\n",
      "正解 = 成功    17896      858\n",
      "--------------------------------------------------------------\n",
      "KFold: 3\n",
      "・正答率を計算\n",
      "正答率（Accuracy） = 40.239%\n",
      "適合率（Precision） = 40.239%\n",
      "再現率（Recall） = 100.000%\n",
      "F1値（F1-score） = 57.386%\n",
      "\n",
      "・予測値と正解のクロス集計（混同行列）\n",
      "         予測 = 失敗  予測 = 成功\n",
      "正解 = 失敗        0    27747\n",
      "正解 = 成功        0    18683\n",
      "--------------------------------------------------------------\n"
     ]
    },
    {
     "name": "stderr",
     "output_type": "stream",
     "text": [
      "/Users/satouyoshihisa/anaconda3/lib/python3.7/site-packages/sklearn/metrics/classification.py:1143: UndefinedMetricWarning: Precision and F-score are ill-defined and being set to 0.0 in labels with no predicted samples.\n",
      "  'precision', 'predicted', average, warn_for)\n"
     ]
    },
    {
     "name": "stdout",
     "output_type": "stream",
     "text": [
      "KFold: 4\n",
      "・正答率を計算\n",
      "正答率（Accuracy） = 59.813%\n",
      "適合率（Precision） = 73.050%\n",
      "再現率（Recall） = 0.550%\n",
      "F1値（F1-score） = 1.092%\n",
      "\n",
      "・予測値と正解のクロス集計（混同行列）\n",
      "         予測 = 失敗  予測 = 成功\n",
      "正解 = 失敗    27668       38\n",
      "正解 = 成功    18621      103\n",
      "--------------------------------------------------------------\n",
      "KFold: 5\n",
      "・正答率を計算\n",
      "正答率（Accuracy） = 60.414%\n",
      "適合率（Precision） = 56.252%\n",
      "再現率（Recall） = 10.821%\n",
      "F1値（F1-score） = 18.151%\n",
      "\n",
      "・予測値と正解のクロス集計（混同行列）\n",
      "         予測 = 失敗  予測 = 成功\n",
      "正解 = 失敗    26012     1585\n",
      "正解 = 成功    16795     2038\n",
      "--------------------------------------------------------------\n",
      "--result---------------------------------\n",
      "正答率（Accuracy） = 55.947%\n",
      "Cross Validation 適合率（Precision） = 65.433%\n",
      "Cross Validation 再現率（Recall） = 23.190%\n",
      "Cross Validation F1値（F1-score） = 17.023%\n"
     ]
    }
   ],
   "source": [
    "#ロジスティック回帰：全項目で検討\n",
    "print('---関数の動作検証:対数なしと標準化なし----------------------------------')\n",
    "clf = SGDClassifier(loss='log', penalty='none', max_iter=10000, fit_intercept=True, random_state=1234, tol=1e-3)\n",
    "LogisticRegressionCal(X_train, y_train, X_test, y_test, clf, 0)\n",
    "\n",
    "print('')\n",
    "print('---関数の動作検証:対数なしと標準化あり----------------------------------')\n",
    "clf = SGDClassifier(loss='log', penalty='none', max_iter=10000, fit_intercept=True, random_state=1234, tol=1e-3)\n",
    "LogisticRegressionCal(X_train, y_train, X_test, y_test, clf, 1)\n",
    "\n",
    "print('--- CrossValidation----------------------------------')\n",
    "clf = SGDClassifier(loss='log', penalty='none', max_iter=10000, fit_intercept=True, random_state=1234, tol=1e-3)\n",
    "evaluate_cross_validation(clf, X_train, y_train, 5)"
   ]
  },
  {
   "cell_type": "code",
   "execution_count": null,
   "metadata": {},
   "outputs": [],
   "source": [
    "#SVMのグリッドサーチは、応答なしのため、後日再検討\n",
    "parameters = {'kernel':['linear', 'rbf'], 'C':[1, 5], 'gamma':[0.1, 5]} # ここを編集する\n",
    "#model = SVC(gamma=\"scale\") # gamma=scaleにすると、gammaが自動で計算される\n",
    "model = SVC() # gamma=scaleにすると、gammaが自動で計算される\n",
    "#clf = GridSearchCV(model, parameters, cv=3,)\n",
    "clf.fit(X_train, y_train)\n",
    "print(clf.best_params_, clf.best_score_)"
   ]
  },
  {
   "cell_type": "code",
   "execution_count": null,
   "metadata": {},
   "outputs": [],
   "source": [
    "# 最適パラメータを用いて識別する\n",
    "#clf2 = SVC(**clf.best_params_, gamma=clf.best_params_['gamma']) # gamma=scaleにすると、gammaが自動で計算される\n",
    "clf2.fit(X_train, y_train)\n",
    "print(\"識別精度=\",clf2.score(X_test, y_test))"
   ]
  },
  {
   "cell_type": "code",
   "execution_count": 66,
   "metadata": {},
   "outputs": [
    {
     "name": "stdout",
     "output_type": "stream",
     "text": [
      "score= 0.6137169342367683\n",
      "[1.]\n"
     ]
    },
    {
     "ename": "TypeError",
     "evalue": "Index(...) must be called with a collection of some kind, 'goal' was passed",
     "output_type": "error",
     "traceback": [
      "\u001b[0;31m---------------------------------------------------------------------------\u001b[0m",
      "\u001b[0;31mTypeError\u001b[0m                                 Traceback (most recent call last)",
      "\u001b[0;32m<ipython-input-66-df4a76abf083>\u001b[0m in \u001b[0;36m<module>\u001b[0;34m\u001b[0m\n\u001b[1;32m     16\u001b[0m \u001b[0;31m# scikit-learnで算出される重要度は、ある説明変数による不純度の減少量合計である。\u001b[0m\u001b[0;34m\u001b[0m\u001b[0;34m\u001b[0m\u001b[0;34m\u001b[0m\u001b[0m\n\u001b[1;32m     17\u001b[0m \u001b[0mprint\u001b[0m\u001b[0;34m(\u001b[0m\u001b[0mclf\u001b[0m\u001b[0;34m.\u001b[0m\u001b[0mfeature_importances_\u001b[0m\u001b[0;34m)\u001b[0m\u001b[0;34m\u001b[0m\u001b[0;34m\u001b[0m\u001b[0m\n\u001b[0;32m---> 18\u001b[0;31m \u001b[0mpd\u001b[0m\u001b[0;34m.\u001b[0m\u001b[0mDataFrame\u001b[0m\u001b[0;34m(\u001b[0m\u001b[0mclf\u001b[0m\u001b[0;34m.\u001b[0m\u001b[0mfeature_importances_\u001b[0m\u001b[0;34m,\u001b[0m \u001b[0mindex\u001b[0m\u001b[0;34m=\u001b[0m\u001b[0;34m'goal'\u001b[0m\u001b[0;34m)\u001b[0m\u001b[0;34m.\u001b[0m\u001b[0mplot\u001b[0m\u001b[0;34m.\u001b[0m\u001b[0mbar\u001b[0m\u001b[0;34m(\u001b[0m\u001b[0mfigsize\u001b[0m\u001b[0;34m=\u001b[0m\u001b[0;34m(\u001b[0m\u001b[0;36m7\u001b[0m\u001b[0;34m,\u001b[0m\u001b[0;36m2\u001b[0m\u001b[0;34m)\u001b[0m\u001b[0;34m)\u001b[0m\u001b[0;34m\u001b[0m\u001b[0;34m\u001b[0m\u001b[0m\n\u001b[0m\u001b[1;32m     19\u001b[0m \u001b[0mplt\u001b[0m\u001b[0;34m.\u001b[0m\u001b[0mylabel\u001b[0m\u001b[0;34m(\u001b[0m\u001b[0;34m\"Importance\"\u001b[0m\u001b[0;34m)\u001b[0m\u001b[0;34m\u001b[0m\u001b[0;34m\u001b[0m\u001b[0m\n\u001b[1;32m     20\u001b[0m \u001b[0mplt\u001b[0m\u001b[0;34m.\u001b[0m\u001b[0mxlabel\u001b[0m\u001b[0;34m(\u001b[0m\u001b[0;34m\"Features\"\u001b[0m\u001b[0;34m)\u001b[0m\u001b[0;34m\u001b[0m\u001b[0;34m\u001b[0m\u001b[0m\n",
      "\u001b[0;32m~/anaconda3/lib/python3.7/site-packages/pandas/core/frame.py\u001b[0m in \u001b[0;36m__init__\u001b[0;34m(self, data, index, columns, dtype, copy)\u001b[0m\n\u001b[1;32m    422\u001b[0m             \u001b[0;32melse\u001b[0m\u001b[0;34m:\u001b[0m\u001b[0;34m\u001b[0m\u001b[0;34m\u001b[0m\u001b[0m\n\u001b[1;32m    423\u001b[0m                 mgr = init_ndarray(data, index, columns, dtype=dtype,\n\u001b[0;32m--> 424\u001b[0;31m                                    copy=copy)\n\u001b[0m\u001b[1;32m    425\u001b[0m \u001b[0;34m\u001b[0m\u001b[0m\n\u001b[1;32m    426\u001b[0m         \u001b[0;31m# For data is list-like, or Iterable (will consume into list)\u001b[0m\u001b[0;34m\u001b[0m\u001b[0;34m\u001b[0m\u001b[0;34m\u001b[0m\u001b[0m\n",
      "\u001b[0;32m~/anaconda3/lib/python3.7/site-packages/pandas/core/internals/construction.py\u001b[0m in \u001b[0;36minit_ndarray\u001b[0;34m(values, index, columns, dtype, copy)\u001b[0m\n\u001b[1;32m    156\u001b[0m                 \u001b[0mraise_with_traceback\u001b[0m\u001b[0;34m(\u001b[0m\u001b[0me\u001b[0m\u001b[0;34m)\u001b[0m\u001b[0;34m\u001b[0m\u001b[0;34m\u001b[0m\u001b[0m\n\u001b[1;32m    157\u001b[0m \u001b[0;34m\u001b[0m\u001b[0m\n\u001b[0;32m--> 158\u001b[0;31m     \u001b[0mindex\u001b[0m\u001b[0;34m,\u001b[0m \u001b[0mcolumns\u001b[0m \u001b[0;34m=\u001b[0m \u001b[0m_get_axes\u001b[0m\u001b[0;34m(\u001b[0m\u001b[0;34m*\u001b[0m\u001b[0mvalues\u001b[0m\u001b[0;34m.\u001b[0m\u001b[0mshape\u001b[0m\u001b[0;34m,\u001b[0m \u001b[0mindex\u001b[0m\u001b[0;34m=\u001b[0m\u001b[0mindex\u001b[0m\u001b[0;34m,\u001b[0m \u001b[0mcolumns\u001b[0m\u001b[0;34m=\u001b[0m\u001b[0mcolumns\u001b[0m\u001b[0;34m)\u001b[0m\u001b[0;34m\u001b[0m\u001b[0;34m\u001b[0m\u001b[0m\n\u001b[0m\u001b[1;32m    159\u001b[0m     \u001b[0mvalues\u001b[0m \u001b[0;34m=\u001b[0m \u001b[0mvalues\u001b[0m\u001b[0;34m.\u001b[0m\u001b[0mT\u001b[0m\u001b[0;34m\u001b[0m\u001b[0;34m\u001b[0m\u001b[0m\n\u001b[1;32m    160\u001b[0m \u001b[0;34m\u001b[0m\u001b[0m\n",
      "\u001b[0;32m~/anaconda3/lib/python3.7/site-packages/pandas/core/internals/construction.py\u001b[0m in \u001b[0;36m_get_axes\u001b[0;34m(N, K, index, columns)\u001b[0m\n\u001b[1;32m    368\u001b[0m         \u001b[0mindex\u001b[0m \u001b[0;34m=\u001b[0m \u001b[0mibase\u001b[0m\u001b[0;34m.\u001b[0m\u001b[0mdefault_index\u001b[0m\u001b[0;34m(\u001b[0m\u001b[0mN\u001b[0m\u001b[0;34m)\u001b[0m\u001b[0;34m\u001b[0m\u001b[0;34m\u001b[0m\u001b[0m\n\u001b[1;32m    369\u001b[0m     \u001b[0;32melse\u001b[0m\u001b[0;34m:\u001b[0m\u001b[0;34m\u001b[0m\u001b[0;34m\u001b[0m\u001b[0m\n\u001b[0;32m--> 370\u001b[0;31m         \u001b[0mindex\u001b[0m \u001b[0;34m=\u001b[0m \u001b[0mensure_index\u001b[0m\u001b[0;34m(\u001b[0m\u001b[0mindex\u001b[0m\u001b[0;34m)\u001b[0m\u001b[0;34m\u001b[0m\u001b[0;34m\u001b[0m\u001b[0m\n\u001b[0m\u001b[1;32m    371\u001b[0m \u001b[0;34m\u001b[0m\u001b[0m\n\u001b[1;32m    372\u001b[0m     \u001b[0;32mif\u001b[0m \u001b[0mcolumns\u001b[0m \u001b[0;32mis\u001b[0m \u001b[0;32mNone\u001b[0m\u001b[0;34m:\u001b[0m\u001b[0;34m\u001b[0m\u001b[0;34m\u001b[0m\u001b[0m\n",
      "\u001b[0;32m~/anaconda3/lib/python3.7/site-packages/pandas/core/indexes/base.py\u001b[0m in \u001b[0;36mensure_index\u001b[0;34m(index_like, copy)\u001b[0m\n\u001b[1;32m   5376\u001b[0m             \u001b[0mindex_like\u001b[0m \u001b[0;34m=\u001b[0m \u001b[0mcopy\u001b[0m\u001b[0;34m(\u001b[0m\u001b[0mindex_like\u001b[0m\u001b[0;34m)\u001b[0m\u001b[0;34m\u001b[0m\u001b[0;34m\u001b[0m\u001b[0m\n\u001b[1;32m   5377\u001b[0m \u001b[0;34m\u001b[0m\u001b[0m\n\u001b[0;32m-> 5378\u001b[0;31m     \u001b[0;32mreturn\u001b[0m \u001b[0mIndex\u001b[0m\u001b[0;34m(\u001b[0m\u001b[0mindex_like\u001b[0m\u001b[0;34m)\u001b[0m\u001b[0;34m\u001b[0m\u001b[0;34m\u001b[0m\u001b[0m\n\u001b[0m\u001b[1;32m   5379\u001b[0m \u001b[0;34m\u001b[0m\u001b[0m\n\u001b[1;32m   5380\u001b[0m \u001b[0;34m\u001b[0m\u001b[0m\n",
      "\u001b[0;32m~/anaconda3/lib/python3.7/site-packages/pandas/core/indexes/base.py\u001b[0m in \u001b[0;36m__new__\u001b[0;34m(cls, data, dtype, copy, name, fastpath, tupleize_cols, **kwargs)\u001b[0m\n\u001b[1;32m    466\u001b[0m                          **kwargs)\n\u001b[1;32m    467\u001b[0m         \u001b[0;32melif\u001b[0m \u001b[0mdata\u001b[0m \u001b[0;32mis\u001b[0m \u001b[0;32mNone\u001b[0m \u001b[0;32mor\u001b[0m \u001b[0mis_scalar\u001b[0m\u001b[0;34m(\u001b[0m\u001b[0mdata\u001b[0m\u001b[0;34m)\u001b[0m\u001b[0;34m:\u001b[0m\u001b[0;34m\u001b[0m\u001b[0;34m\u001b[0m\u001b[0m\n\u001b[0;32m--> 468\u001b[0;31m             \u001b[0mcls\u001b[0m\u001b[0;34m.\u001b[0m\u001b[0m_scalar_data_error\u001b[0m\u001b[0;34m(\u001b[0m\u001b[0mdata\u001b[0m\u001b[0;34m)\u001b[0m\u001b[0;34m\u001b[0m\u001b[0;34m\u001b[0m\u001b[0m\n\u001b[0m\u001b[1;32m    469\u001b[0m         \u001b[0;32melse\u001b[0m\u001b[0;34m:\u001b[0m\u001b[0;34m\u001b[0m\u001b[0;34m\u001b[0m\u001b[0m\n\u001b[1;32m    470\u001b[0m             \u001b[0;32mif\u001b[0m \u001b[0mtupleize_cols\u001b[0m \u001b[0;32mand\u001b[0m \u001b[0mis_list_like\u001b[0m\u001b[0;34m(\u001b[0m\u001b[0mdata\u001b[0m\u001b[0;34m)\u001b[0m\u001b[0;34m:\u001b[0m\u001b[0;34m\u001b[0m\u001b[0;34m\u001b[0m\u001b[0m\n",
      "\u001b[0;32m~/anaconda3/lib/python3.7/site-packages/pandas/core/indexes/base.py\u001b[0m in \u001b[0;36m_scalar_data_error\u001b[0;34m(cls, data)\u001b[0m\n\u001b[1;32m   3797\u001b[0m         raise TypeError('{0}(...) must be called with a collection of some '\n\u001b[1;32m   3798\u001b[0m                         'kind, {1} was passed'.format(cls.__name__,\n\u001b[0;32m-> 3799\u001b[0;31m                                                       repr(data)))\n\u001b[0m\u001b[1;32m   3800\u001b[0m \u001b[0;34m\u001b[0m\u001b[0m\n\u001b[1;32m   3801\u001b[0m     \u001b[0;34m@\u001b[0m\u001b[0mclassmethod\u001b[0m\u001b[0;34m\u001b[0m\u001b[0;34m\u001b[0m\u001b[0m\n",
      "\u001b[0;31mTypeError\u001b[0m: Index(...) must be called with a collection of some kind, 'goal' was passed"
     ]
    }
   ],
   "source": [
    "from sklearn.ensemble import AdaBoostClassifier\n",
    "from sklearn.tree import DecisionTreeClassifier\n",
    "\n",
    "clf = AdaBoostClassifier(DecisionTreeClassifier(max_depth=3,\n",
    "                                                                                 min_samples_leaf=2,\n",
    "                                                                                 min_samples_split=2, \n",
    "                                                                                 random_state=1234,\n",
    "                                                                                 criterion=\"gini\"),\n",
    "                                           n_estimators=10, random_state=1234)\n",
    "clf.fit(X_train, y_train)\n",
    "print(\"score=\", clf.score(X_train, y_train))\n",
    "\n",
    "#expl_val = X_train.columns\n",
    "\n",
    "# 説明変数の重要度を出力する\n",
    "# scikit-learnで算出される重要度は、ある説明変数による不純度の減少量合計である。\n",
    "print(clf.feature_importances_)\n",
    "pd.DataFrame(clf.feature_importances_, index='goal').plot.bar(figsize=(7,2))\n",
    "plt.ylabel(\"Importance\")\n",
    "plt.xlabel(\"Features\")\n",
    "plt.show()"
   ]
  },
  {
   "cell_type": "markdown",
   "metadata": {},
   "source": [
    "# 1.データ読み取りと内容確認"
   ]
  },
  {
   "cell_type": "code",
   "execution_count": 85,
   "metadata": {},
   "outputs": [
    {
     "data": {
      "text/html": [
       "<div>\n",
       "<style scoped>\n",
       "    .dataframe tbody tr th:only-of-type {\n",
       "        vertical-align: middle;\n",
       "    }\n",
       "\n",
       "    .dataframe tbody tr th {\n",
       "        vertical-align: top;\n",
       "    }\n",
       "\n",
       "    .dataframe thead th {\n",
       "        text-align: right;\n",
       "    }\n",
       "</style>\n",
       "<table border=\"1\" class=\"dataframe\">\n",
       "  <thead>\n",
       "    <tr style=\"text-align: right;\">\n",
       "      <th></th>\n",
       "      <th>ID</th>\n",
       "      <th>name</th>\n",
       "      <th>category</th>\n",
       "      <th>main_category</th>\n",
       "      <th>currency</th>\n",
       "      <th>deadline</th>\n",
       "      <th>goal</th>\n",
       "      <th>launched</th>\n",
       "      <th>pledged</th>\n",
       "      <th>state</th>\n",
       "      <th>backers</th>\n",
       "      <th>country</th>\n",
       "      <th>usd pledged</th>\n",
       "      <th>usd_pledged_real</th>\n",
       "      <th>usd_goal_real</th>\n",
       "    </tr>\n",
       "  </thead>\n",
       "  <tbody>\n",
       "    <tr>\n",
       "      <th>0</th>\n",
       "      <td>1000002330</td>\n",
       "      <td>The Songs of Adelaide &amp; Abullah</td>\n",
       "      <td>Poetry</td>\n",
       "      <td>Publishing</td>\n",
       "      <td>GBP</td>\n",
       "      <td>2015-10-09</td>\n",
       "      <td>1000.0</td>\n",
       "      <td>2015-08-11 12:12:28</td>\n",
       "      <td>0.0</td>\n",
       "      <td>failed</td>\n",
       "      <td>0</td>\n",
       "      <td>GB</td>\n",
       "      <td>0.0</td>\n",
       "      <td>0.0</td>\n",
       "      <td>1533.95</td>\n",
       "    </tr>\n",
       "    <tr>\n",
       "      <th>1</th>\n",
       "      <td>1000003930</td>\n",
       "      <td>Greeting From Earth: ZGAC Arts Capsule For ET</td>\n",
       "      <td>Narrative Film</td>\n",
       "      <td>Film &amp; Video</td>\n",
       "      <td>USD</td>\n",
       "      <td>2017-11-01</td>\n",
       "      <td>30000.0</td>\n",
       "      <td>2017-09-02 04:43:57</td>\n",
       "      <td>2421.0</td>\n",
       "      <td>failed</td>\n",
       "      <td>15</td>\n",
       "      <td>US</td>\n",
       "      <td>100.0</td>\n",
       "      <td>2421.0</td>\n",
       "      <td>30000.00</td>\n",
       "    </tr>\n",
       "    <tr>\n",
       "      <th>2</th>\n",
       "      <td>1000004038</td>\n",
       "      <td>Where is Hank?</td>\n",
       "      <td>Narrative Film</td>\n",
       "      <td>Film &amp; Video</td>\n",
       "      <td>USD</td>\n",
       "      <td>2013-02-26</td>\n",
       "      <td>45000.0</td>\n",
       "      <td>2013-01-12 00:20:50</td>\n",
       "      <td>220.0</td>\n",
       "      <td>failed</td>\n",
       "      <td>3</td>\n",
       "      <td>US</td>\n",
       "      <td>220.0</td>\n",
       "      <td>220.0</td>\n",
       "      <td>45000.00</td>\n",
       "    </tr>\n",
       "    <tr>\n",
       "      <th>3</th>\n",
       "      <td>1000007540</td>\n",
       "      <td>ToshiCapital Rekordz Needs Help to Complete Album</td>\n",
       "      <td>Music</td>\n",
       "      <td>Music</td>\n",
       "      <td>USD</td>\n",
       "      <td>2012-04-16</td>\n",
       "      <td>5000.0</td>\n",
       "      <td>2012-03-17 03:24:11</td>\n",
       "      <td>1.0</td>\n",
       "      <td>failed</td>\n",
       "      <td>1</td>\n",
       "      <td>US</td>\n",
       "      <td>1.0</td>\n",
       "      <td>1.0</td>\n",
       "      <td>5000.00</td>\n",
       "    </tr>\n",
       "    <tr>\n",
       "      <th>4</th>\n",
       "      <td>1000011046</td>\n",
       "      <td>Community Film Project: The Art of Neighborhoo...</td>\n",
       "      <td>Film &amp; Video</td>\n",
       "      <td>Film &amp; Video</td>\n",
       "      <td>USD</td>\n",
       "      <td>2015-08-29</td>\n",
       "      <td>19500.0</td>\n",
       "      <td>2015-07-04 08:35:03</td>\n",
       "      <td>1283.0</td>\n",
       "      <td>canceled</td>\n",
       "      <td>14</td>\n",
       "      <td>US</td>\n",
       "      <td>1283.0</td>\n",
       "      <td>1283.0</td>\n",
       "      <td>19500.00</td>\n",
       "    </tr>\n",
       "  </tbody>\n",
       "</table>\n",
       "</div>"
      ],
      "text/plain": [
       "           ID                                               name  \\\n",
       "0  1000002330                    The Songs of Adelaide & Abullah   \n",
       "1  1000003930      Greeting From Earth: ZGAC Arts Capsule For ET   \n",
       "2  1000004038                                     Where is Hank?   \n",
       "3  1000007540  ToshiCapital Rekordz Needs Help to Complete Album   \n",
       "4  1000011046  Community Film Project: The Art of Neighborhoo...   \n",
       "\n",
       "         category main_category currency    deadline     goal  \\\n",
       "0          Poetry    Publishing      GBP  2015-10-09   1000.0   \n",
       "1  Narrative Film  Film & Video      USD  2017-11-01  30000.0   \n",
       "2  Narrative Film  Film & Video      USD  2013-02-26  45000.0   \n",
       "3           Music         Music      USD  2012-04-16   5000.0   \n",
       "4    Film & Video  Film & Video      USD  2015-08-29  19500.0   \n",
       "\n",
       "              launched  pledged     state  backers country  usd pledged  \\\n",
       "0  2015-08-11 12:12:28      0.0    failed        0      GB          0.0   \n",
       "1  2017-09-02 04:43:57   2421.0    failed       15      US        100.0   \n",
       "2  2013-01-12 00:20:50    220.0    failed        3      US        220.0   \n",
       "3  2012-03-17 03:24:11      1.0    failed        1      US          1.0   \n",
       "4  2015-07-04 08:35:03   1283.0  canceled       14      US       1283.0   \n",
       "\n",
       "   usd_pledged_real  usd_goal_real  \n",
       "0               0.0        1533.95  \n",
       "1            2421.0       30000.00  \n",
       "2             220.0       45000.00  \n",
       "3               1.0        5000.00  \n",
       "4            1283.0       19500.00  "
      ]
     },
     "metadata": {},
     "output_type": "display_data"
    },
    {
     "data": {
      "text/html": [
       "<div>\n",
       "<style scoped>\n",
       "    .dataframe tbody tr th:only-of-type {\n",
       "        vertical-align: middle;\n",
       "    }\n",
       "\n",
       "    .dataframe tbody tr th {\n",
       "        vertical-align: top;\n",
       "    }\n",
       "\n",
       "    .dataframe thead th {\n",
       "        text-align: right;\n",
       "    }\n",
       "</style>\n",
       "<table border=\"1\" class=\"dataframe\">\n",
       "  <thead>\n",
       "    <tr style=\"text-align: right;\">\n",
       "      <th></th>\n",
       "      <th>ID</th>\n",
       "      <th>goal</th>\n",
       "      <th>pledged</th>\n",
       "      <th>backers</th>\n",
       "      <th>usd pledged</th>\n",
       "      <th>usd_pledged_real</th>\n",
       "      <th>usd_goal_real</th>\n",
       "    </tr>\n",
       "  </thead>\n",
       "  <tbody>\n",
       "    <tr>\n",
       "      <th>count</th>\n",
       "      <td>3.786610e+05</td>\n",
       "      <td>3.786610e+05</td>\n",
       "      <td>3.786610e+05</td>\n",
       "      <td>378661.000000</td>\n",
       "      <td>3.748640e+05</td>\n",
       "      <td>3.786610e+05</td>\n",
       "      <td>3.786610e+05</td>\n",
       "    </tr>\n",
       "    <tr>\n",
       "      <th>mean</th>\n",
       "      <td>1.074731e+09</td>\n",
       "      <td>4.908079e+04</td>\n",
       "      <td>9.682979e+03</td>\n",
       "      <td>105.617476</td>\n",
       "      <td>7.036729e+03</td>\n",
       "      <td>9.058924e+03</td>\n",
       "      <td>4.545440e+04</td>\n",
       "    </tr>\n",
       "    <tr>\n",
       "      <th>std</th>\n",
       "      <td>6.190862e+08</td>\n",
       "      <td>1.183391e+06</td>\n",
       "      <td>9.563601e+04</td>\n",
       "      <td>907.185035</td>\n",
       "      <td>7.863975e+04</td>\n",
       "      <td>9.097334e+04</td>\n",
       "      <td>1.152950e+06</td>\n",
       "    </tr>\n",
       "    <tr>\n",
       "      <th>min</th>\n",
       "      <td>5.971000e+03</td>\n",
       "      <td>1.000000e-02</td>\n",
       "      <td>0.000000e+00</td>\n",
       "      <td>0.000000</td>\n",
       "      <td>0.000000e+00</td>\n",
       "      <td>0.000000e+00</td>\n",
       "      <td>1.000000e-02</td>\n",
       "    </tr>\n",
       "    <tr>\n",
       "      <th>25%</th>\n",
       "      <td>5.382635e+08</td>\n",
       "      <td>2.000000e+03</td>\n",
       "      <td>3.000000e+01</td>\n",
       "      <td>2.000000</td>\n",
       "      <td>1.698000e+01</td>\n",
       "      <td>3.100000e+01</td>\n",
       "      <td>2.000000e+03</td>\n",
       "    </tr>\n",
       "    <tr>\n",
       "      <th>50%</th>\n",
       "      <td>1.075276e+09</td>\n",
       "      <td>5.200000e+03</td>\n",
       "      <td>6.200000e+02</td>\n",
       "      <td>12.000000</td>\n",
       "      <td>3.947200e+02</td>\n",
       "      <td>6.243300e+02</td>\n",
       "      <td>5.500000e+03</td>\n",
       "    </tr>\n",
       "    <tr>\n",
       "      <th>75%</th>\n",
       "      <td>1.610149e+09</td>\n",
       "      <td>1.600000e+04</td>\n",
       "      <td>4.076000e+03</td>\n",
       "      <td>56.000000</td>\n",
       "      <td>3.034090e+03</td>\n",
       "      <td>4.050000e+03</td>\n",
       "      <td>1.550000e+04</td>\n",
       "    </tr>\n",
       "    <tr>\n",
       "      <th>max</th>\n",
       "      <td>2.147476e+09</td>\n",
       "      <td>1.000000e+08</td>\n",
       "      <td>2.033899e+07</td>\n",
       "      <td>219382.000000</td>\n",
       "      <td>2.033899e+07</td>\n",
       "      <td>2.033899e+07</td>\n",
       "      <td>1.663614e+08</td>\n",
       "    </tr>\n",
       "  </tbody>\n",
       "</table>\n",
       "</div>"
      ],
      "text/plain": [
       "                 ID          goal       pledged        backers   usd pledged  \\\n",
       "count  3.786610e+05  3.786610e+05  3.786610e+05  378661.000000  3.748640e+05   \n",
       "mean   1.074731e+09  4.908079e+04  9.682979e+03     105.617476  7.036729e+03   \n",
       "std    6.190862e+08  1.183391e+06  9.563601e+04     907.185035  7.863975e+04   \n",
       "min    5.971000e+03  1.000000e-02  0.000000e+00       0.000000  0.000000e+00   \n",
       "25%    5.382635e+08  2.000000e+03  3.000000e+01       2.000000  1.698000e+01   \n",
       "50%    1.075276e+09  5.200000e+03  6.200000e+02      12.000000  3.947200e+02   \n",
       "75%    1.610149e+09  1.600000e+04  4.076000e+03      56.000000  3.034090e+03   \n",
       "max    2.147476e+09  1.000000e+08  2.033899e+07  219382.000000  2.033899e+07   \n",
       "\n",
       "       usd_pledged_real  usd_goal_real  \n",
       "count      3.786610e+05   3.786610e+05  \n",
       "mean       9.058924e+03   4.545440e+04  \n",
       "std        9.097334e+04   1.152950e+06  \n",
       "min        0.000000e+00   1.000000e-02  \n",
       "25%        3.100000e+01   2.000000e+03  \n",
       "50%        6.243300e+02   5.500000e+03  \n",
       "75%        4.050000e+03   1.550000e+04  \n",
       "max        2.033899e+07   1.663614e+08  "
      ]
     },
     "execution_count": 85,
     "metadata": {},
     "output_type": "execute_result"
    }
   ],
   "source": [
    "#データ読み取り\n",
    "df_kickstarter = pd.read_csv(\"./ks-projects-201801.csv\")\n",
    "\n",
    "#Kickstarter Projectsに関する実際のデータ。\n",
    "display(df_kickstarter.head())\n",
    "df_kickstarter.describe()"
   ]
  },
  {
   "cell_type": "code",
   "execution_count": 86,
   "metadata": {},
   "outputs": [
    {
     "name": "stdout",
     "output_type": "stream",
     "text": [
      "<class 'pandas.core.frame.DataFrame'>\n",
      "RangeIndex: 378661 entries, 0 to 378660\n",
      "Data columns (total 15 columns):\n",
      "ID                  378661 non-null int64\n",
      "name                378657 non-null object\n",
      "category            378661 non-null object\n",
      "main_category       378661 non-null object\n",
      "currency            378661 non-null object\n",
      "deadline            378661 non-null object\n",
      "goal                378661 non-null float64\n",
      "launched            378661 non-null object\n",
      "pledged             378661 non-null float64\n",
      "state               378661 non-null object\n",
      "backers             378661 non-null int64\n",
      "country             378661 non-null object\n",
      "usd pledged         374864 non-null float64\n",
      "usd_pledged_real    378661 non-null float64\n",
      "usd_goal_real       378661 non-null float64\n",
      "dtypes: float64(5), int64(2), object(8)\n",
      "memory usage: 43.3+ MB\n"
     ]
    },
    {
     "data": {
      "text/plain": [
       "Index(['ID', 'name', 'category', 'main_category', 'currency', 'deadline',\n",
       "       'goal', 'launched', 'pledged', 'state', 'backers', 'country',\n",
       "       'usd pledged', 'usd_pledged_real', 'usd_goal_real'],\n",
       "      dtype='object')"
      ]
     },
     "execution_count": 86,
     "metadata": {},
     "output_type": "execute_result"
    }
   ],
   "source": [
    "#データ概要を取得\n",
    "df_kickstarter.info()\n",
    "df_kickstarter.columns"
   ]
  },
  {
   "cell_type": "markdown",
   "metadata": {},
   "source": [
    "## 1-1.項目を検討  \n",
    "### 運用中のデータから予測するため、成功失敗判定後から分かる変数を説明変数に使用しない。  \n",
    "\n",
    "ID                  378661 non-null int64  =>削除  \n",
    "name                378657 non-null object =>削除？  \n",
    "category            378661 non-null object => 数値化？   \n",
    "main_category       378661 non-null object => 数値化？  \n",
    "currency            378661 non-null object => ?  \n",
    "deadline            378661 non-null object =>期間算定？  \n",
    "goal                378661 non-null float64 => 通貨統一？、標準化？   \n",
    "launched            378661 non-null object =>期間算定？    \n",
    "pledged             378661 non-null float64 => 換算？又は標準化？ （後から分かる変数のため、今回は無視)  \n",
    "state               378661 non-null object => 目的変数（０、１に置換)  \n",
    "backers             378661 non-null int64 => （後から分かる変数のため、今回は無視）   \n",
    "country             378661 non-null object  \n",
    "usd pledged         374864 non-null float64  \n",
    "usd_pledged_real    378661 non-null float64  \n",
    "usd_goal_real       378661 non-null float64  => goalを相関関係があるため、goalを採用して検討\n"
   ]
  },
  {
   "cell_type": "code",
   "execution_count": 87,
   "metadata": {},
   "outputs": [
    {
     "data": {
      "text/plain": [
       "ID                     0\n",
       "name                   4\n",
       "category               0\n",
       "main_category          0\n",
       "currency               0\n",
       "deadline               0\n",
       "goal                   0\n",
       "launched               0\n",
       "pledged                0\n",
       "state                  0\n",
       "backers                0\n",
       "country                0\n",
       "usd pledged         3797\n",
       "usd_pledged_real       0\n",
       "usd_goal_real          0\n",
       "dtype: int64"
      ]
     },
     "execution_count": 87,
     "metadata": {},
     "output_type": "execute_result"
    }
   ],
   "source": [
    "#カラム毎の欠損値の数を表示\n",
    "df_kickstarter.isnull().sum()\n",
    "#欠損値処理なし。name及びusd_pledgedは無視。"
   ]
  },
  {
   "cell_type": "code",
   "execution_count": 88,
   "metadata": {},
   "outputs": [],
   "source": [
    "#sns.pairplot(df_kickstarter)"
   ]
  },
  {
   "cell_type": "code",
   "execution_count": 89,
   "metadata": {},
   "outputs": [
    {
     "data": {
      "text/html": [
       "<div>\n",
       "<style scoped>\n",
       "    .dataframe tbody tr th:only-of-type {\n",
       "        vertical-align: middle;\n",
       "    }\n",
       "\n",
       "    .dataframe tbody tr th {\n",
       "        vertical-align: top;\n",
       "    }\n",
       "\n",
       "    .dataframe thead th {\n",
       "        text-align: right;\n",
       "    }\n",
       "</style>\n",
       "<table border=\"1\" class=\"dataframe\">\n",
       "  <thead>\n",
       "    <tr style=\"text-align: right;\">\n",
       "      <th></th>\n",
       "      <th>ID</th>\n",
       "      <th>goal</th>\n",
       "      <th>pledged</th>\n",
       "      <th>backers</th>\n",
       "      <th>usd pledged</th>\n",
       "      <th>usd_pledged_real</th>\n",
       "      <th>usd_goal_real</th>\n",
       "    </tr>\n",
       "  </thead>\n",
       "  <tbody>\n",
       "    <tr>\n",
       "      <th>ID</th>\n",
       "      <td>1.000000</td>\n",
       "      <td>0.001679</td>\n",
       "      <td>0.000466</td>\n",
       "      <td>0.000654</td>\n",
       "      <td>-0.000633</td>\n",
       "      <td>-0.000025</td>\n",
       "      <td>0.001854</td>\n",
       "    </tr>\n",
       "    <tr>\n",
       "      <th>goal</th>\n",
       "      <td>0.001679</td>\n",
       "      <td>1.000000</td>\n",
       "      <td>0.007358</td>\n",
       "      <td>0.004012</td>\n",
       "      <td>0.005534</td>\n",
       "      <td>0.005104</td>\n",
       "      <td>0.942692</td>\n",
       "    </tr>\n",
       "    <tr>\n",
       "      <th>pledged</th>\n",
       "      <td>0.000466</td>\n",
       "      <td>0.007358</td>\n",
       "      <td>1.000000</td>\n",
       "      <td>0.717079</td>\n",
       "      <td>0.857370</td>\n",
       "      <td>0.952843</td>\n",
       "      <td>0.005024</td>\n",
       "    </tr>\n",
       "    <tr>\n",
       "      <th>backers</th>\n",
       "      <td>0.000654</td>\n",
       "      <td>0.004012</td>\n",
       "      <td>0.717079</td>\n",
       "      <td>1.000000</td>\n",
       "      <td>0.697426</td>\n",
       "      <td>0.752539</td>\n",
       "      <td>0.004517</td>\n",
       "    </tr>\n",
       "    <tr>\n",
       "      <th>usd pledged</th>\n",
       "      <td>-0.000633</td>\n",
       "      <td>0.005534</td>\n",
       "      <td>0.857370</td>\n",
       "      <td>0.697426</td>\n",
       "      <td>1.000000</td>\n",
       "      <td>0.907743</td>\n",
       "      <td>0.006172</td>\n",
       "    </tr>\n",
       "    <tr>\n",
       "      <th>usd_pledged_real</th>\n",
       "      <td>-0.000025</td>\n",
       "      <td>0.005104</td>\n",
       "      <td>0.952843</td>\n",
       "      <td>0.752539</td>\n",
       "      <td>0.907743</td>\n",
       "      <td>1.000000</td>\n",
       "      <td>0.005596</td>\n",
       "    </tr>\n",
       "    <tr>\n",
       "      <th>usd_goal_real</th>\n",
       "      <td>0.001854</td>\n",
       "      <td>0.942692</td>\n",
       "      <td>0.005024</td>\n",
       "      <td>0.004517</td>\n",
       "      <td>0.006172</td>\n",
       "      <td>0.005596</td>\n",
       "      <td>1.000000</td>\n",
       "    </tr>\n",
       "  </tbody>\n",
       "</table>\n",
       "</div>"
      ],
      "text/plain": [
       "                        ID      goal   pledged   backers  usd pledged  \\\n",
       "ID                1.000000  0.001679  0.000466  0.000654    -0.000633   \n",
       "goal              0.001679  1.000000  0.007358  0.004012     0.005534   \n",
       "pledged           0.000466  0.007358  1.000000  0.717079     0.857370   \n",
       "backers           0.000654  0.004012  0.717079  1.000000     0.697426   \n",
       "usd pledged      -0.000633  0.005534  0.857370  0.697426     1.000000   \n",
       "usd_pledged_real -0.000025  0.005104  0.952843  0.752539     0.907743   \n",
       "usd_goal_real     0.001854  0.942692  0.005024  0.004517     0.006172   \n",
       "\n",
       "                  usd_pledged_real  usd_goal_real  \n",
       "ID                       -0.000025       0.001854  \n",
       "goal                      0.005104       0.942692  \n",
       "pledged                   0.952843       0.005024  \n",
       "backers                   0.752539       0.004517  \n",
       "usd pledged               0.907743       0.006172  \n",
       "usd_pledged_real          1.000000       0.005596  \n",
       "usd_goal_real             0.005596       1.000000  "
      ]
     },
     "execution_count": 89,
     "metadata": {},
     "output_type": "execute_result"
    }
   ],
   "source": [
    "# 相関係数を確認\n",
    "df_kickstarter.corr()"
   ]
  },
  {
   "cell_type": "code",
   "execution_count": 91,
   "metadata": {},
   "outputs": [
    {
     "data": {
      "text/plain": [
       "<matplotlib.axes._subplots.AxesSubplot at 0x7fc32976d048>"
      ]
     },
     "execution_count": 91,
     "metadata": {},
     "output_type": "execute_result"
    },
    {
     "data": {
      "image/png": "[encoded data removed]",
      "text/plain": [
       "<Figure size 432x288 with 2 Axes>"
      ]
     },
     "metadata": {
      "needs_background": "light"
     },
     "output_type": "display_data"
    }
   ],
   "source": [
    "sns.heatmap(df_kickstarter.corr(),cmap=\"summer_r\",annot=True)\n",
    "#goalとusd_goalは、相関関係があるため、goalを使用して検討"
   ]
  },
  {
   "cell_type": "markdown",
   "metadata": {},
   "source": [
    "## 2.データ修正：分類対応\n",
    "## 回帰問題の説明変数として、stateを成功・失敗に分類するため、データを１、０に修正する。"
   ]
  },
  {
   "cell_type": "code",
   "execution_count": 92,
   "metadata": {},
   "outputs": [
    {
     "name": "stdout",
     "output_type": "stream",
     "text": [
      "['failed' 'canceled' 'successful' 'live' 'undefined' 'suspended']\n",
      "<class 'pandas.core.frame.DataFrame'>\n",
      "RangeIndex: 378661 entries, 0 to 378660\n",
      "Data columns (total 15 columns):\n",
      "ID                  378661 non-null int64\n",
      "name                378657 non-null object\n",
      "category            378661 non-null object\n",
      "main_category       378661 non-null object\n",
      "currency            378661 non-null object\n",
      "deadline            378661 non-null object\n",
      "goal                378661 non-null float64\n",
      "launched            378661 non-null object\n",
      "pledged             378661 non-null float64\n",
      "state               378661 non-null object\n",
      "backers             378661 non-null int64\n",
      "country             378661 non-null object\n",
      "usd pledged         374864 non-null float64\n",
      "usd_pledged_real    378661 non-null float64\n",
      "usd_goal_real       378661 non-null float64\n",
      "dtypes: float64(5), int64(2), object(8)\n",
      "memory usage: 43.3+ MB\n"
     ]
    },
    {
     "data": {
      "image/png": "[encoded data removed]",
      "text/plain": [
       "<Figure size 432x288 with 1 Axes>"
      ]
     },
     "metadata": {
      "needs_background": "light"
     },
     "output_type": "display_data"
    }
   ],
   "source": [
    "sns.countplot(df_kickstarter.state)\n",
    "print(df_kickstarter.state.unique())\n",
    "df_kickstarter.info()"
   ]
  },
  {
   "cell_type": "markdown",
   "metadata": {},
   "source": [
    "### 今回は、十分にデータ件数があるため、['live' 'undefined' 'suspended']の行を削除（除外）して検討する。  \n",
    "  又、goalの異常値を除外する。"
   ]
  },
  {
   "cell_type": "code",
   "execution_count": 93,
   "metadata": {},
   "outputs": [
    {
     "name": "stdout",
     "output_type": "stream",
     "text": [
      "<class 'pandas.core.frame.DataFrame'>\n",
      "Int64Index: 370454 entries, 0 to 378660\n",
      "Data columns (total 15 columns):\n",
      "ID                  370454 non-null int64\n",
      "name                370451 non-null object\n",
      "category            370454 non-null object\n",
      "main_category       370454 non-null object\n",
      "currency            370454 non-null object\n",
      "deadline            370454 non-null object\n",
      "goal                370454 non-null float64\n",
      "launched            370454 non-null object\n",
      "pledged             370454 non-null float64\n",
      "state               370454 non-null object\n",
      "backers             370454 non-null int64\n",
      "country             370454 non-null object\n",
      "usd pledged         370222 non-null float64\n",
      "usd_pledged_real    370454 non-null float64\n",
      "usd_goal_real       370454 non-null float64\n",
      "dtypes: float64(5), int64(2), object(8)\n",
      "memory usage: 45.2+ MB\n"
     ]
    }
   ],
   "source": [
    "df_kickstarter = df_kickstarter[(df_kickstarter['state']=='successful')|(df_kickstarter['state']=='failed')|(df_kickstarter['state']=='canceled')]\n",
    "df_kickstarter.info()"
   ]
  },
  {
   "cell_type": "code",
   "execution_count": 94,
   "metadata": {},
   "outputs": [
    {
     "name": "stdout",
     "output_type": "stream",
     "text": [
      "['failed' 'canceled' 'successful']\n"
     ]
    },
    {
     "data": {
      "image/png": "[encoded data removed]",
      "text/plain": [
       "<Figure size 432x288 with 1 Axes>"
      ]
     },
     "metadata": {
      "needs_background": "light"
     },
     "output_type": "display_data"
    }
   ],
   "source": [
    "sns.countplot(df_kickstarter.state)\n",
    "print(df_kickstarter.state.unique())"
   ]
  },
  {
   "cell_type": "code",
   "execution_count": 95,
   "metadata": {},
   "outputs": [],
   "source": [
    "#successfulは１に、それ以外は、０に変換\n",
    "map_state_info = {'successful':1,'failed':0,'canceled':0,'suspended':0,'undefined':0,'live':0}\n",
    "df_kickstarter['state_num'] = df_kickstarter['state'].map(map_state_info)"
   ]
  },
  {
   "cell_type": "code",
   "execution_count": 96,
   "metadata": {},
   "outputs": [
    {
     "name": "stdout",
     "output_type": "stream",
     "text": [
      "[0 1]\n"
     ]
    },
    {
     "data": {
      "image/png": "[encoded data removed]",
      "text/plain": [
       "<Figure size 432x288 with 1 Axes>"
      ]
     },
     "metadata": {
      "needs_background": "light"
     },
     "output_type": "display_data"
    }
   ],
   "source": [
    "#データ修正結果を確認\n",
    "sns.countplot(df_kickstarter.state_num)\n",
    "print(df_kickstarter.state_num.unique())\n",
    "#print(df_kickstarter.state.unique())"
   ]
  },
  {
   "cell_type": "code",
   "execution_count": 97,
   "metadata": {},
   "outputs": [
    {
     "data": {
      "image/png": "[encoded data removed]",
      "text/plain": [
       "<Figure size 432x288 with 1 Axes>"
      ]
     },
     "metadata": {
      "needs_background": "light"
     },
     "output_type": "display_data"
    }
   ],
   "source": [
    "sns.boxplot(df_kickstarter[\"goal\"])\n",
    "plt.show()"
   ]
  },
  {
   "cell_type": "code",
   "execution_count": 98,
   "metadata": {},
   "outputs": [
    {
     "data": {
      "text/plain": [
       "count    3.704540e+05\n",
       "mean     4.864199e+04\n",
       "std      1.159868e+06\n",
       "min      1.000000e-02\n",
       "25%      2.000000e+03\n",
       "50%      5.500000e+03\n",
       "75%      1.630000e+04\n",
       "max      1.000000e+08\n",
       "Name: goal, dtype: float64"
      ]
     },
     "execution_count": 98,
     "metadata": {},
     "output_type": "execute_result"
    }
   ],
   "source": [
    "df_kickstarter['goal'].describe()"
   ]
  },
  {
   "cell_type": "code",
   "execution_count": 99,
   "metadata": {},
   "outputs": [
    {
     "data": {
      "image/png": "[encoded data removed]",
      "text/plain": [
       "<Figure size 432x288 with 1 Axes>"
      ]
     },
     "metadata": {
      "needs_background": "light"
     },
     "output_type": "display_data"
    }
   ],
   "source": [
    "sns.boxplot(df_kickstarter[(df_kickstarter['goal']>99000000)].goal)\n",
    "plt.show()"
   ]
  },
  {
   "cell_type": "code",
   "execution_count": 100,
   "metadata": {},
   "outputs": [
    {
     "data": {
      "image/png": "[encoded data removed]",
      "text/plain": [
       "<Figure size 432x288 with 1 Axes>"
      ]
     },
     "metadata": {
      "needs_background": "light"
     },
     "output_type": "display_data"
    }
   ],
   "source": [
    "# le8に固まっているデータを削除\n",
    "df_kickstarter = df_kickstarter[(df_kickstarter['goal']<99000000)]\n",
    "sns.boxplot(df_kickstarter[\"goal\"])\n",
    "plt.show()"
   ]
  },
  {
   "cell_type": "code",
   "execution_count": 104,
   "metadata": {},
   "outputs": [
    {
     "name": "stdout",
     "output_type": "stream",
     "text": [
      "<class 'pandas.core.frame.DataFrame'>\n",
      "Int64Index: 370419 entries, 0 to 378660\n",
      "Data columns (total 16 columns):\n",
      "ID                  370419 non-null int64\n",
      "name                370416 non-null object\n",
      "category            370419 non-null object\n",
      "main_category       370419 non-null object\n",
      "currency            370419 non-null object\n",
      "deadline            370419 non-null object\n",
      "goal                370419 non-null float64\n",
      "launched            370419 non-null object\n",
      "pledged             370419 non-null float64\n",
      "state               370419 non-null object\n",
      "backers             370419 non-null int64\n",
      "country             370419 non-null object\n",
      "usd pledged         370187 non-null float64\n",
      "usd_pledged_real    370419 non-null float64\n",
      "usd_goal_real       370419 non-null float64\n",
      "state_num           370419 non-null int64\n",
      "dtypes: float64(5), int64(3), object(8)\n",
      "memory usage: 48.0+ MB\n"
     ]
    },
    {
     "data": {
      "text/html": [
       "<div>\n",
       "<style scoped>\n",
       "    .dataframe tbody tr th:only-of-type {\n",
       "        vertical-align: middle;\n",
       "    }\n",
       "\n",
       "    .dataframe tbody tr th {\n",
       "        vertical-align: top;\n",
       "    }\n",
       "\n",
       "    .dataframe thead th {\n",
       "        text-align: right;\n",
       "    }\n",
       "</style>\n",
       "<table border=\"1\" class=\"dataframe\">\n",
       "  <thead>\n",
       "    <tr style=\"text-align: right;\">\n",
       "      <th></th>\n",
       "      <th>ID</th>\n",
       "      <th>goal</th>\n",
       "      <th>pledged</th>\n",
       "      <th>backers</th>\n",
       "      <th>usd pledged</th>\n",
       "      <th>usd_pledged_real</th>\n",
       "      <th>usd_goal_real</th>\n",
       "      <th>state_num</th>\n",
       "    </tr>\n",
       "  </thead>\n",
       "  <tbody>\n",
       "    <tr>\n",
       "      <th>count</th>\n",
       "      <td>3.704190e+05</td>\n",
       "      <td>3.704190e+05</td>\n",
       "      <td>3.704190e+05</td>\n",
       "      <td>370419.000000</td>\n",
       "      <td>3.701870e+05</td>\n",
       "      <td>3.704190e+05</td>\n",
       "      <td>3.704190e+05</td>\n",
       "      <td>370419.000000</td>\n",
       "    </tr>\n",
       "    <tr>\n",
       "      <th>mean</th>\n",
       "      <td>1.074448e+09</td>\n",
       "      <td>3.920053e+04</td>\n",
       "      <td>9.753935e+03</td>\n",
       "      <td>106.929064</td>\n",
       "      <td>7.077097e+03</td>\n",
       "      <td>9.148441e+03</td>\n",
       "      <td>3.659164e+04</td>\n",
       "      <td>0.361634</td>\n",
       "    </tr>\n",
       "    <tr>\n",
       "      <th>std</th>\n",
       "      <td>6.192010e+08</td>\n",
       "      <td>6.339625e+05</td>\n",
       "      <td>9.631993e+04</td>\n",
       "      <td>915.021732</td>\n",
       "      <td>7.882628e+04</td>\n",
       "      <td>9.166838e+04</td>\n",
       "      <td>6.263999e+05</td>\n",
       "      <td>0.480474</td>\n",
       "    </tr>\n",
       "    <tr>\n",
       "      <th>min</th>\n",
       "      <td>5.971000e+03</td>\n",
       "      <td>1.000000e-02</td>\n",
       "      <td>0.000000e+00</td>\n",
       "      <td>0.000000</td>\n",
       "      <td>0.000000e+00</td>\n",
       "      <td>0.000000e+00</td>\n",
       "      <td>1.000000e-02</td>\n",
       "      <td>0.000000</td>\n",
       "    </tr>\n",
       "    <tr>\n",
       "      <th>25%</th>\n",
       "      <td>5.375718e+08</td>\n",
       "      <td>2.000000e+03</td>\n",
       "      <td>3.200000e+01</td>\n",
       "      <td>2.000000</td>\n",
       "      <td>1.900000e+01</td>\n",
       "      <td>3.248500e+01</td>\n",
       "      <td>2.000000e+03</td>\n",
       "      <td>0.000000</td>\n",
       "    </tr>\n",
       "    <tr>\n",
       "      <th>50%</th>\n",
       "      <td>1.075070e+09</td>\n",
       "      <td>5.500000e+03</td>\n",
       "      <td>6.300000e+02</td>\n",
       "      <td>12.000000</td>\n",
       "      <td>4.030000e+02</td>\n",
       "      <td>6.330000e+02</td>\n",
       "      <td>5.500000e+03</td>\n",
       "      <td>0.000000</td>\n",
       "    </tr>\n",
       "    <tr>\n",
       "      <th>75%</th>\n",
       "      <td>1.610082e+09</td>\n",
       "      <td>1.620000e+04</td>\n",
       "      <td>4.101000e+03</td>\n",
       "      <td>57.000000</td>\n",
       "      <td>3.065000e+03</td>\n",
       "      <td>4.076050e+03</td>\n",
       "      <td>1.594506e+04</td>\n",
       "      <td>1.000000</td>\n",
       "    </tr>\n",
       "    <tr>\n",
       "      <th>max</th>\n",
       "      <td>2.147476e+09</td>\n",
       "      <td>8.000000e+07</td>\n",
       "      <td>2.033899e+07</td>\n",
       "      <td>219382.000000</td>\n",
       "      <td>2.033899e+07</td>\n",
       "      <td>2.033899e+07</td>\n",
       "      <td>8.876757e+07</td>\n",
       "      <td>1.000000</td>\n",
       "    </tr>\n",
       "  </tbody>\n",
       "</table>\n",
       "</div>"
      ],
      "text/plain": [
       "                 ID          goal       pledged        backers   usd pledged  \\\n",
       "count  3.704190e+05  3.704190e+05  3.704190e+05  370419.000000  3.701870e+05   \n",
       "mean   1.074448e+09  3.920053e+04  9.753935e+03     106.929064  7.077097e+03   \n",
       "std    6.192010e+08  6.339625e+05  9.631993e+04     915.021732  7.882628e+04   \n",
       "min    5.971000e+03  1.000000e-02  0.000000e+00       0.000000  0.000000e+00   \n",
       "25%    5.375718e+08  2.000000e+03  3.200000e+01       2.000000  1.900000e+01   \n",
       "50%    1.075070e+09  5.500000e+03  6.300000e+02      12.000000  4.030000e+02   \n",
       "75%    1.610082e+09  1.620000e+04  4.101000e+03      57.000000  3.065000e+03   \n",
       "max    2.147476e+09  8.000000e+07  2.033899e+07  219382.000000  2.033899e+07   \n",
       "\n",
       "       usd_pledged_real  usd_goal_real      state_num  \n",
       "count      3.704190e+05   3.704190e+05  370419.000000  \n",
       "mean       9.148441e+03   3.659164e+04       0.361634  \n",
       "std        9.166838e+04   6.263999e+05       0.480474  \n",
       "min        0.000000e+00   1.000000e-02       0.000000  \n",
       "25%        3.248500e+01   2.000000e+03       0.000000  \n",
       "50%        6.330000e+02   5.500000e+03       0.000000  \n",
       "75%        4.076050e+03   1.594506e+04       1.000000  \n",
       "max        2.033899e+07   8.876757e+07       1.000000  "
      ]
     },
     "execution_count": 104,
     "metadata": {},
     "output_type": "execute_result"
    },
    {
     "data": {
      "image/png": "[encoded data removed]",
      "text/plain": [
       "<Figure size 432x288 with 2 Axes>"
      ]
     },
     "metadata": {
      "needs_background": "light"
     },
     "output_type": "display_data"
    }
   ],
   "source": [
    "sns.heatmap(df_kickstarter.corr(),cmap=\"summer_r\",annot=True)\n",
    "#goalとusd_goalは、相関関係があるため、goalを使用して検討\n",
    "#Kickstarter Projectsに関する実際のデータ。\n",
    "#display(df_kickstarter.head())\n",
    "\n",
    "df_kickstarter.info()\n",
    "df_kickstarter.describe()"
   ]
  },
  {
   "cell_type": "markdown",
   "metadata": {},
   "source": [
    "## 3.目的変数のみデータ修正して予測してみる。"
   ]
  },
  {
   "cell_type": "code",
   "execution_count": 105,
   "metadata": {},
   "outputs": [
    {
     "data": {
      "text/plain": [
       "SGDClassifier(alpha=0.0001, average=False, class_weight=None,\n",
       "       early_stopping=False, epsilon=0.1, eta0=0.0, fit_intercept=True,\n",
       "       l1_ratio=0.15, learning_rate='optimal', loss='log', max_iter=10000,\n",
       "       n_iter=None, n_iter_no_change=5, n_jobs=None, penalty='none',\n",
       "       power_t=0.5, random_state=1234, shuffle=True, tol=0.001,\n",
       "       validation_fraction=0.1, verbose=0, warm_start=False)"
      ]
     },
     "execution_count": 105,
     "metadata": {},
     "output_type": "execute_result"
    }
   ],
   "source": [
    "# ロジスティック回帰\n",
    "y = df_kickstarter[\"state_num\"].values\n",
    "X = df_kickstarter[[\"goal\"]].values\n",
    "clf = SGDClassifier(loss='log', penalty='none', max_iter=10000, fit_intercept=True, random_state=1234, tol=1e-3)\n",
    "clf.fit(X, y)"
   ]
  },
  {
   "cell_type": "code",
   "execution_count": 106,
   "metadata": {},
   "outputs": [
    {
     "name": "stdout",
     "output_type": "stream",
     "text": [
      "23720.679191292624 [[93.39019961]]\n"
     ]
    }
   ],
   "source": [
    "# 重みを取得して表示\n",
    "w0 = clf.intercept_[0]\n",
    "print(w0,clf.coef_)"
   ]
  },
  {
   "cell_type": "code",
   "execution_count": 107,
   "metadata": {},
   "outputs": [
    {
     "name": "stdout",
     "output_type": "stream",
     "text": [
      "正答率（Accuracy） = 36.163%\n",
      "適合率（Precision） = 36.163%\n",
      "再現率（Recall） = 100.000%\n",
      "F1値（F1-score） = 53.118%\n"
     ]
    },
    {
     "name": "stderr",
     "output_type": "stream",
     "text": [
      "/Users/satouyoshihisa/anaconda3/lib/python3.7/site-packages/sklearn/metrics/classification.py:1143: UndefinedMetricWarning: Precision and F-score are ill-defined and being set to 0.0 in labels with no predicted samples.\n",
      "  'precision', 'predicted', average, warn_for)\n"
     ]
    }
   ],
   "source": [
    "# ラベルを予測\n",
    "y_pred = clf.predict(X)\n",
    "\n",
    "# 正答率を計算\n",
    "accuracy =  accuracy_score(y, y_pred)\n",
    "print('正答率（Accuracy） = {:.3f}%'.format(100 * accuracy))\n",
    "\n",
    "# Precision, Recall, F1-scoreを計算\n",
    "precision, recall, f1_score, _ = precision_recall_fscore_support(y, y_pred)\n",
    "\n",
    "# カテゴリ「成功・失敗」に関するPrecision, Recall, F1-scoreを表示\n",
    "print('適合率（Precision） = {:.3f}%'.format(100 * precision[1]))\n",
    "print('再現率（Recall） = {:.3f}%'.format(100 * recall[1]))\n",
    "print('F1値（F1-score） = {:.3f}%'.format(100 * f1_score[1]))"
   ]
  },
  {
   "cell_type": "code",
   "execution_count": 108,
   "metadata": {},
   "outputs": [
    {
     "data": {
      "text/html": [
       "<div>\n",
       "<style scoped>\n",
       "    .dataframe tbody tr th:only-of-type {\n",
       "        vertical-align: middle;\n",
       "    }\n",
       "\n",
       "    .dataframe tbody tr th {\n",
       "        vertical-align: top;\n",
       "    }\n",
       "\n",
       "    .dataframe thead th {\n",
       "        text-align: right;\n",
       "    }\n",
       "</style>\n",
       "<table border=\"1\" class=\"dataframe\">\n",
       "  <thead>\n",
       "    <tr style=\"text-align: right;\">\n",
       "      <th></th>\n",
       "      <th>予測 = 失敗</th>\n",
       "      <th>予測 = 成功</th>\n",
       "    </tr>\n",
       "  </thead>\n",
       "  <tbody>\n",
       "    <tr>\n",
       "      <th>正解 = 失敗</th>\n",
       "      <td>0</td>\n",
       "      <td>236463</td>\n",
       "    </tr>\n",
       "    <tr>\n",
       "      <th>正解 = 成功</th>\n",
       "      <td>0</td>\n",
       "      <td>133956</td>\n",
       "    </tr>\n",
       "  </tbody>\n",
       "</table>\n",
       "</div>"
      ],
      "text/plain": [
       "         予測 = 失敗  予測 = 成功\n",
       "正解 = 失敗        0   236463\n",
       "正解 = 成功        0   133956"
      ]
     },
     "execution_count": 108,
     "metadata": {},
     "output_type": "execute_result"
    }
   ],
   "source": [
    "# 予測値と正解のクロス集計（混同行列）\n",
    "conf_mat = confusion_matrix(y, y_pred)\n",
    "conf_mat = pd.DataFrame(conf_mat, \n",
    "                        index=['正解 = 失敗', '正解 = 成功'], \n",
    "                        columns=['予測 = 失敗', '予測 = 成功'])\n",
    "conf_mat"
   ]
  },
  {
   "cell_type": "code",
   "execution_count": 162,
   "metadata": {},
   "outputs": [
    {
     "name": "stdout",
     "output_type": "stream",
     "text": [
      "・重みを取得して表示\n",
      "22463.958114706253 [[-0.6205571]]\n",
      "\n",
      "・正答率を計算\n",
      "正答率（Accuracy） = 45.035%\n",
      "適合率（Precision） = 39.265%\n",
      "再現率（Recall） = 95.081%\n",
      "F1値（F1-score） = 55.579%\n",
      "\n",
      "・予測値と正解のクロス集計（混同行列）\n",
      "         予測 = 失敗  予測 = 成功\n",
      "正解 = 失敗    39449   197008\n",
      "正解 = 成功     6589   127367\n"
     ]
    }
   ],
   "source": [
    "#関数の動作検証\n",
    "y = df_kickstarter[\"state_num\"].values\n",
    "X = df_kickstarter[[\"goal\"]].values\n",
    "clf = SGDClassifier(loss='log', penalty='none', max_iter=10000, fit_intercept=True, random_state=1234, tol=1e-3)\n",
    "LogisticRegressionCal(X, y, X, y, clf, 0)"
   ]
  },
  {
   "cell_type": "code",
   "execution_count": 163,
   "metadata": {},
   "outputs": [
    {
     "name": "stdout",
     "output_type": "stream",
     "text": [
      "・重みを取得して表示\n",
      "2.0188009854559885 [[-0.29589599]]\n",
      "\n",
      "・正答率を計算\n",
      "正答率（Accuracy） = 64.207%\n",
      "適合率（Precision） = 51.514%\n",
      "再現率（Recall） = 17.457%\n",
      "F1値（F1-score） = 26.077%\n",
      "\n",
      "・予測値と正解のクロス集計（混同行列）\n",
      "         予測 = 失敗  予測 = 成功\n",
      "正解 = 失敗   214447    22010\n",
      "正解 = 成功   110571    23385\n"
     ]
    }
   ],
   "source": [
    "#関数の動作検証:対数ありと標準化なし\n",
    "y = df_kickstarter[\"state_num\"].values\n",
    "X = np.log(df_kickstarter[[\"goal\"]].values)\n",
    "clf = SGDClassifier(loss='log', penalty='none', max_iter=10000, fit_intercept=True, random_state=1234, tol=1e-3)\n",
    "LogisticRegressionCal(X, y, X, y, clf, 0)"
   ]
  },
  {
   "cell_type": "code",
   "execution_count": 117,
   "metadata": {},
   "outputs": [
    {
     "name": "stdout",
     "output_type": "stream",
     "text": [
      "・重みを取得して表示\n",
      "-0.5767245985615995 [[-0.54507585]]\n",
      "\n",
      "・正答率を計算\n",
      "正答率（Accuracy） = 64.206%\n",
      "適合率（Precision） = 51.505%\n",
      "再現率（Recall） = 17.460%\n",
      "F1値（F1-score） = 26.079%\n",
      "\n",
      "・予測値と正解のクロス集計（混同行列）\n",
      "         予測 = 失敗  予測 = 成功\n",
      "正解 = 失敗   214441    22022\n",
      "正解 = 成功   110567    23389\n"
     ]
    }
   ],
   "source": [
    "#関数の動作検証:対数あり、標準化あり\n",
    "y = df_kickstarter[\"state_num\"].values\n",
    "X = np.log(df_kickstarter[[\"goal\"]].values)\n",
    "clf = SGDClassifier(loss='log', penalty='none', max_iter=10000, fit_intercept=True, random_state=1234, tol=1e-3)\n",
    "LogisticRegressionCal(X, y, X, y, clf, 1)"
   ]
  },
  {
   "cell_type": "code",
   "execution_count": 118,
   "metadata": {},
   "outputs": [
    {
     "name": "stdout",
     "output_type": "stream",
     "text": [
      "・重みを取得して表示\n",
      "1.973319438177375 [[-0.26094795]]\n",
      "\n",
      "・正答率を計算\n",
      "正答率（Accuracy） = 63.541%\n",
      "適合率（Precision） = 49.343%\n",
      "再現率（Recall） = 30.744%\n",
      "F1値（F1-score） = 37.884%\n",
      "\n",
      "・予測値と正解のクロス集計（混同行列）\n",
      "         予測 = 失敗  予測 = 成功\n",
      "正解 = 失敗   194183    42280\n",
      "正解 = 成功    92772    41184\n"
     ]
    }
   ],
   "source": [
    "clf = SGDClassifier(loss='log', penalty='l1', max_iter=10000, fit_intercept=True, random_state=1234, tol=1e-3)\n",
    "LogisticRegressionCal(X, y, X, y, clf, 0)"
   ]
  },
  {
   "cell_type": "markdown",
   "metadata": {},
   "source": [
    "## 4.期間を説明変数として追加してみる。"
   ]
  },
  {
   "cell_type": "code",
   "execution_count": 120,
   "metadata": {},
   "outputs": [],
   "source": [
    "#期間取得\n",
    "df_kickstarter['deadline'] = pd.to_datetime(df_kickstarter['deadline'], errors='coerce')\n",
    "df_kickstarter['launched'] = pd.to_datetime(df_kickstarter['launched'], errors='coerce')\n",
    "#df_kickstarter.head(10)"
   ]
  },
  {
   "cell_type": "code",
   "execution_count": 121,
   "metadata": {},
   "outputs": [],
   "source": [
    "#期間をperiod列として追加\n",
    "df_kickstarter['period'] = (df_kickstarter['deadline'] - df_kickstarter['launched']).dt.days\n",
    "#df_kickstarter.head(10)"
   ]
  },
  {
   "cell_type": "code",
   "execution_count": 122,
   "metadata": {},
   "outputs": [
    {
     "data": {
      "image/png": "[encoded data removed]",
      "text/plain": [
       "<Figure size 432x288 with 1 Axes>"
      ]
     },
     "metadata": {
      "needs_background": "light"
     },
     "output_type": "display_data"
    }
   ],
   "source": [
    "sns.boxplot(df_kickstarter[\"period\"])\n",
    "plt.show()"
   ]
  },
  {
   "cell_type": "code",
   "execution_count": 123,
   "metadata": {},
   "outputs": [
    {
     "name": "stdout",
     "output_type": "stream",
     "text": [
      "<class 'pandas.core.frame.DataFrame'>\n",
      "Int64Index: 370413 entries, 0 to 378660\n",
      "Data columns (total 17 columns):\n",
      "ID                  370413 non-null int64\n",
      "name                370410 non-null object\n",
      "category            370413 non-null object\n",
      "main_category       370413 non-null object\n",
      "currency            370413 non-null object\n",
      "deadline            370413 non-null datetime64[ns]\n",
      "goal                370413 non-null float64\n",
      "launched            370413 non-null datetime64[ns]\n",
      "pledged             370413 non-null float64\n",
      "state               370413 non-null object\n",
      "backers             370413 non-null int64\n",
      "country             370413 non-null object\n",
      "usd pledged         370181 non-null float64\n",
      "usd_pledged_real    370413 non-null float64\n",
      "usd_goal_real       370413 non-null float64\n",
      "state_num           370413 non-null int64\n",
      "period              370413 non-null category\n",
      "dtypes: category(1), datetime64[ns](2), float64(5), int64(3), object(6)\n",
      "memory usage: 48.4+ MB\n"
     ]
    }
   ],
   "source": [
    "# 長い期間は外れ値として、行削除\n",
    "df_kickstarter = df_kickstarter[(df_kickstarter['period']<2000)]\n",
    "#periodのバンド化を試す\n",
    "df_kickstarter['period'] = pd.cut(df_kickstarter[\"period\"],[0, 20, 40, 60, 80, 100, 20000],labels=range(6),right=False)\n",
    "df_kickstarter.info()"
   ]
  },
  {
   "cell_type": "code",
   "execution_count": 124,
   "metadata": {},
   "outputs": [
    {
     "data": {
      "image/png": "[encoded data removed]",
      "text/plain": [
       "<Figure size 432x288 with 1 Axes>"
      ]
     },
     "metadata": {
      "needs_background": "light"
     },
     "output_type": "display_data"
    }
   ],
   "source": [
    "sns.boxplot(df_kickstarter[\"period\"])\n",
    "plt.show()"
   ]
  },
  {
   "cell_type": "code",
   "execution_count": 125,
   "metadata": {},
   "outputs": [
    {
     "name": "stdout",
     "output_type": "stream",
     "text": [
      "[2, 1, 0, 3, 4]\n",
      "Categories (5, int64): [0 < 1 < 2 < 3 < 4]\n"
     ]
    },
    {
     "data": {
      "text/plain": [
       "ID                    0\n",
       "name                  3\n",
       "category              0\n",
       "main_category         0\n",
       "currency              0\n",
       "deadline              0\n",
       "goal                  0\n",
       "launched              0\n",
       "pledged               0\n",
       "state                 0\n",
       "backers               0\n",
       "country               0\n",
       "usd pledged         232\n",
       "usd_pledged_real      0\n",
       "usd_goal_real         0\n",
       "state_num             0\n",
       "period                0\n",
       "dtype: int64"
      ]
     },
     "execution_count": 125,
     "metadata": {},
     "output_type": "execute_result"
    },
    {
     "data": {
      "image/png": "[encoded data removed]",
      "text/plain": [
       "<Figure size 432x288 with 1 Axes>"
      ]
     },
     "metadata": {
      "needs_background": "light"
     },
     "output_type": "display_data"
    }
   ],
   "source": [
    "print(df_kickstarter.period.unique())\n",
    "sns.countplot(df_kickstarter.period)\n",
    "df_kickstarter.isnull().sum()"
   ]
  },
  {
   "cell_type": "code",
   "execution_count": 139,
   "metadata": {},
   "outputs": [
    {
     "name": "stdout",
     "output_type": "stream",
     "text": [
      "SGDClassifier(alpha=0.0001, average=False, class_weight=None,\n",
      "       early_stopping=False, epsilon=0.1, eta0=0.0, fit_intercept=True,\n",
      "       l1_ratio=0.15, learning_rate='optimal', loss='log', max_iter=10000,\n",
      "       n_iter=None, n_iter_no_change=5, n_jobs=None, penalty='none',\n",
      "       power_t=0.5, random_state=1234, shuffle=True, tol=0.001,\n",
      "       validation_fraction=0.1, verbose=0, warm_start=False)\n",
      "21119.70350527906 [[-1.60108245e+01  2.17081991e+04]]\n"
     ]
    }
   ],
   "source": [
    "# ロジスティック回帰\n",
    "y = df_kickstarter['state_num'].values\n",
    "X = df_kickstarter[['goal','period']].values\n",
    "clf = SGDClassifier(loss='log', penalty='none', max_iter=10000, fit_intercept=True, random_state=1234, tol=1e-3)\n",
    "print(clf.fit(X, y))\n",
    "\n",
    "# 重みを取得して表示\n",
    "w0 = clf.intercept_[0]\n",
    "print(w0,clf.coef_)"
   ]
  },
  {
   "cell_type": "code",
   "execution_count": 140,
   "metadata": {},
   "outputs": [
    {
     "name": "stdout",
     "output_type": "stream",
     "text": [
      "正答率（Accuracy） = 62.057%\n",
      "適合率（Precision） = 47.171%\n",
      "再現率（Recall） = 41.015%\n",
      "F1値（F1-score） = 43.878%\n"
     ]
    },
    {
     "data": {
      "text/html": [
       "<div>\n",
       "<style scoped>\n",
       "    .dataframe tbody tr th:only-of-type {\n",
       "        vertical-align: middle;\n",
       "    }\n",
       "\n",
       "    .dataframe tbody tr th {\n",
       "        vertical-align: top;\n",
       "    }\n",
       "\n",
       "    .dataframe thead th {\n",
       "        text-align: right;\n",
       "    }\n",
       "</style>\n",
       "<table border=\"1\" class=\"dataframe\">\n",
       "  <thead>\n",
       "    <tr style=\"text-align: right;\">\n",
       "      <th></th>\n",
       "      <th>予測 = 失敗</th>\n",
       "      <th>予測 = 成功</th>\n",
       "    </tr>\n",
       "  </thead>\n",
       "  <tbody>\n",
       "    <tr>\n",
       "      <th>正解 = 失敗</th>\n",
       "      <td>174924</td>\n",
       "      <td>61533</td>\n",
       "    </tr>\n",
       "    <tr>\n",
       "      <th>正解 = 成功</th>\n",
       "      <td>79014</td>\n",
       "      <td>54942</td>\n",
       "    </tr>\n",
       "  </tbody>\n",
       "</table>\n",
       "</div>"
      ],
      "text/plain": [
       "         予測 = 失敗  予測 = 成功\n",
       "正解 = 失敗   174924    61533\n",
       "正解 = 成功    79014    54942"
      ]
     },
     "execution_count": 140,
     "metadata": {},
     "output_type": "execute_result"
    }
   ],
   "source": [
    "# ラベルを予測\n",
    "y_pred = clf.predict(X)\n",
    "\n",
    "# 正答率を計算\n",
    "accuracy =  accuracy_score(y, y_pred)\n",
    "print('正答率（Accuracy） = {:.3f}%'.format(100 * accuracy))\n",
    "\n",
    "# Precision, Recall, F1-scoreを計算\n",
    "precision, recall, f1_score, _ = precision_recall_fscore_support(y, y_pred)\n",
    "\n",
    "# カテゴリ「成功・失敗」に関するPrecision, Recall, F1-scoreを表示\n",
    "print('適合率（Precision） = {:.3f}%'.format(100 * precision[1]))\n",
    "print('再現率（Recall） = {:.3f}%'.format(100 * recall[1]))\n",
    "print('F1値（F1-score） = {:.3f}%'.format(100 * f1_score[1]))\n",
    "\n",
    "# 予測値と正解のクロス集計（混同行列）\n",
    "conf_mat = confusion_matrix(y, y_pred)\n",
    "conf_mat = pd.DataFrame(conf_mat, \n",
    "                        index=['正解 = 失敗', '正解 = 成功'], \n",
    "                        columns=['予測 = 失敗', '予測 = 成功'])\n",
    "conf_mat"
   ]
  },
  {
   "cell_type": "code",
   "execution_count": 147,
   "metadata": {},
   "outputs": [
    {
     "name": "stdout",
     "output_type": "stream",
     "text": [
      "・重みを取得して表示\n",
      "21119.70350527906 [[-1.60108245e+01  2.17081991e+04]]\n",
      "\n",
      "・正答率を計算\n",
      "正答率（Accuracy） = 62.057%\n",
      "適合率（Precision） = 47.171%\n",
      "再現率（Recall） = 41.015%\n",
      "F1値（F1-score） = 43.878%\n",
      "\n",
      "・予測値と正解のクロス集計（混同行列）\n",
      "         予測 = 失敗  予測 = 成功\n",
      "正解 = 失敗   174924    61533\n",
      "正解 = 成功    79014    54942\n"
     ]
    }
   ],
   "source": [
    "#関数の動作検証:対数あり、標準化あり\n",
    "y = df_kickstarter['state_num'].values\n",
    "df_kickstarter['goal_log'] = np.log(df_kickstarter['goal'].values)\n",
    "X = df_kickstarter[['goal','period']].values\n",
    "clf = SGDClassifier(loss='log', penalty='none', max_iter=10000, fit_intercept=True, random_state=1234, tol=1e-3)\n",
    "LogisticRegressionCal(X, y, X, y, clf, 0)"
   ]
  },
  {
   "cell_type": "markdown",
   "metadata": {},
   "source": [
    "## 期間をバンド化にすることで性能低下回避？。期間の取り扱いは要検討。"
   ]
  },
  {
   "cell_type": "markdown",
   "metadata": {},
   "source": [
    "# 5.'country','currency','main_category'をダミー変数として説明変数に追加する。=> countryとcurrencyに相関関係があるため、countryのみを使用"
   ]
  },
  {
   "cell_type": "code",
   "execution_count": 56,
   "metadata": {},
   "outputs": [
    {
     "data": {
      "text/plain": [
       "array(['Publishing', 'Film & Video', 'Music', 'Food', 'Design', 'Crafts',\n",
       "       'Games', 'Comics', 'Fashion', 'Theater', 'Art', 'Photography',\n",
       "       'Technology', 'Dance', 'Journalism'], dtype=object)"
      ]
     },
     "execution_count": 56,
     "metadata": {},
     "output_type": "execute_result"
    }
   ],
   "source": [
    "df_kickstarter['main_category'].unique()"
   ]
  },
  {
   "cell_type": "code",
   "execution_count": 149,
   "metadata": {},
   "outputs": [
    {
     "name": "stdout",
     "output_type": "stream",
     "text": [
      "['GBP' 'USD' 'CAD' 'AUD' 'NOK' 'EUR' 'MXN' 'SEK' 'NZD' 'CHF' 'DKK' 'HKD'\n",
      " 'SGD' 'JPY']\n"
     ]
    }
   ],
   "source": [
    "#削除用currencyを取得\n",
    "drop_colums_currency = df_kickstarter['currency'].unique()\n",
    "print(drop_colums_currency)"
   ]
  },
  {
   "cell_type": "code",
   "execution_count": 150,
   "metadata": {},
   "outputs": [],
   "source": [
    "df_dummy = pd.get_dummies(df_kickstarter['main_category'])\n",
    "df_kickstarter = pd.concat([df_kickstarter,df_dummy],axis=1)\n",
    "df_dummy = pd.get_dummies(df_kickstarter['currency'])\n",
    "df_kickstarter = pd.concat([df_kickstarter,df_dummy],axis=1)\n",
    "df_dummy = pd.get_dummies(df_kickstarter['country'])\n",
    "df_kickstarter = pd.concat([df_kickstarter,df_dummy],axis=1)\n",
    "#df_kickstarter.head(10)"
   ]
  },
  {
   "cell_type": "code",
   "execution_count": 151,
   "metadata": {},
   "outputs": [],
   "source": [
    "#不要な列を削除\n",
    "drop_colums = ['ID','name','pledged','backers','usd pledged','usd_pledged_real','usd_goal_real']\n",
    "df_kickstarter = df_kickstarter.drop(drop_colums, axis = 1)\n",
    "\n",
    "#別データに変更したもの\n",
    "drop_colums = ['state','deadline','country','currency','category','main_category','launched']\n",
    "df_kickstarter = df_kickstarter.drop(drop_colums, axis = 1)"
   ]
  },
  {
   "cell_type": "code",
   "execution_count": 59,
   "metadata": {},
   "outputs": [
    {
     "data": {
      "text/plain": [
       "goal            0\n",
       "state_num       0\n",
       "period          0\n",
       "Art             0\n",
       "Comics          0\n",
       "Crafts          0\n",
       "Dance           0\n",
       "Design          0\n",
       "Fashion         0\n",
       "Film & Video    0\n",
       "Food            0\n",
       "Games           0\n",
       "Journalism      0\n",
       "Music           0\n",
       "Photography     0\n",
       "Publishing      0\n",
       "Technology      0\n",
       "Theater         0\n",
       "AUD             0\n",
       "CAD             0\n",
       "CHF             0\n",
       "DKK             0\n",
       "EUR             0\n",
       "GBP             0\n",
       "HKD             0\n",
       "JPY             0\n",
       "MXN             0\n",
       "NOK             0\n",
       "NZD             0\n",
       "SEK             0\n",
       "SGD             0\n",
       "USD             0\n",
       "AT              0\n",
       "AU              0\n",
       "BE              0\n",
       "CA              0\n",
       "CH              0\n",
       "DE              0\n",
       "DK              0\n",
       "ES              0\n",
       "FR              0\n",
       "GB              0\n",
       "HK              0\n",
       "IE              0\n",
       "IT              0\n",
       "JP              0\n",
       "LU              0\n",
       "MX              0\n",
       "N,0\"            0\n",
       "NL              0\n",
       "NO              0\n",
       "NZ              0\n",
       "SE              0\n",
       "SG              0\n",
       "US              0\n",
       "dtype: int64"
      ]
     },
     "execution_count": 59,
     "metadata": {},
     "output_type": "execute_result"
    }
   ],
   "source": [
    "#カラム毎の欠損値の数を表示\n",
    "df_kickstarter.isnull().sum()"
   ]
  },
  {
   "cell_type": "code",
   "execution_count": 152,
   "metadata": {},
   "outputs": [
    {
     "data": {
      "text/plain": [
       "<matplotlib.axes._subplots.AxesSubplot at 0x7fc34237a9e8>"
      ]
     },
     "execution_count": 152,
     "metadata": {},
     "output_type": "execute_result"
    },
    {
     "data": {
      "image/png": "[encoded data removed]",
      "text/plain": [
       "<Figure size 432x288 with 2 Axes>"
      ]
     },
     "metadata": {
      "needs_background": "light"
     },
     "output_type": "display_data"
    }
   ],
   "source": [
    "sns.heatmap(df_kickstarter.corr(),cmap=\"summer_r\")"
   ]
  },
  {
   "cell_type": "code",
   "execution_count": 154,
   "metadata": {},
   "outputs": [],
   "source": [
    "#国通貨に相関関係があるため、通貨を削除\n",
    "df_kickstarter = df_kickstarter.drop(drop_colums_currency, axis = 1)"
   ]
  },
  {
   "cell_type": "code",
   "execution_count": 155,
   "metadata": {},
   "outputs": [
    {
     "data": {
      "text/plain": [
       "<matplotlib.axes._subplots.AxesSubplot at 0x7fc33035f0f0>"
      ]
     },
     "execution_count": 155,
     "metadata": {},
     "output_type": "execute_result"
    },
    {
     "data": {
      "image/png": "[encoded data removed]",
      "text/plain": [
       "<Figure size 432x288 with 2 Axes>"
      ]
     },
     "metadata": {
      "needs_background": "light"
     },
     "output_type": "display_data"
    }
   ],
   "source": [
    "sns.heatmap(df_kickstarter.corr(),cmap=\"summer_r\")"
   ]
  },
  {
   "cell_type": "code",
   "execution_count": 156,
   "metadata": {},
   "outputs": [
    {
     "name": "stdout",
     "output_type": "stream",
     "text": [
      "SGDClassifier(alpha=0.0001, average=False, class_weight=None,\n",
      "       early_stopping=False, epsilon=0.1, eta0=0.0, fit_intercept=True,\n",
      "       l1_ratio=0.15, learning_rate='optimal', loss='log', max_iter=10000,\n",
      "       n_iter=None, n_iter_no_change=5, n_jobs=None, penalty='none',\n",
      "       power_t=0.5, random_state=1234, shuffle=True, tol=0.001,\n",
      "       validation_fraction=0.1, verbose=0, warm_start=False)\n",
      "14361.62783039267 [[-1.25168765e+02  1.46375954e+04  1.20460943e+05  1.09821506e+03\n",
      "   7.64751263e+02  4.09718493e+00  3.56044302e+02  1.37875976e+03\n",
      "   3.67257027e+02  2.73755032e+03  5.45115234e+02  1.55780751e+03\n",
      "   8.37587942e+00  3.07194951e+03  2.34260444e+02  9.58048821e+02\n",
      "   3.58955844e+02  9.20439674e+02 -1.09074487e+00  1.54484211e+02\n",
      "   4.18540849e+00  3.47186953e+02  1.51403787e+01  7.22055106e+01\n",
      "   7.08562422e+01  1.88318593e+01  6.87389853e+01  1.03760787e+03\n",
      "   2.86503856e+01 -7.09356036e-01 -1.19686486e+01 -6.79235274e-01\n",
      "   2.71788860e+00  5.54229197e+01  1.35423267e+01  4.19720264e+01\n",
      "   2.19581100e+01  6.32426661e+01  8.05460489e+01  1.33217043e+01\n",
      "   1.22654643e+04]]\n"
     ]
    }
   ],
   "source": [
    "# ロジスティック回帰\n",
    "y = df_kickstarter[\"state_num\"].values\n",
    "X = df_kickstarter.drop('state_num', axis=1).values\n",
    "clf = SGDClassifier(loss='log', penalty='none', max_iter=10000, fit_intercept=True, random_state=1234, tol=1e-3)\n",
    "print(clf.fit(X, y))\n",
    "\n",
    "# 重みを取得して表示\n",
    "w0 = clf.intercept_[0]\n",
    "print(w0,clf.coef_)"
   ]
  },
  {
   "cell_type": "code",
   "execution_count": 157,
   "metadata": {},
   "outputs": [
    {
     "name": "stdout",
     "output_type": "stream",
     "text": [
      "正答率（Accuracy） = 56.557%\n",
      "適合率（Precision） = 43.914%\n",
      "再現率（Recall） = 72.616%\n",
      "F1値（F1-score） = 54.731%\n"
     ]
    },
    {
     "data": {
      "text/html": [
       "<div>\n",
       "<style scoped>\n",
       "    .dataframe tbody tr th:only-of-type {\n",
       "        vertical-align: middle;\n",
       "    }\n",
       "\n",
       "    .dataframe tbody tr th {\n",
       "        vertical-align: top;\n",
       "    }\n",
       "\n",
       "    .dataframe thead th {\n",
       "        text-align: right;\n",
       "    }\n",
       "</style>\n",
       "<table border=\"1\" class=\"dataframe\">\n",
       "  <thead>\n",
       "    <tr style=\"text-align: right;\">\n",
       "      <th></th>\n",
       "      <th>予測 = 失敗</th>\n",
       "      <th>予測 = 成功</th>\n",
       "    </tr>\n",
       "  </thead>\n",
       "  <tbody>\n",
       "    <tr>\n",
       "      <th>正解 = 失敗</th>\n",
       "      <td>112222</td>\n",
       "      <td>124235</td>\n",
       "    </tr>\n",
       "    <tr>\n",
       "      <th>正解 = 成功</th>\n",
       "      <td>36682</td>\n",
       "      <td>97274</td>\n",
       "    </tr>\n",
       "  </tbody>\n",
       "</table>\n",
       "</div>"
      ],
      "text/plain": [
       "         予測 = 失敗  予測 = 成功\n",
       "正解 = 失敗   112222   124235\n",
       "正解 = 成功    36682    97274"
      ]
     },
     "execution_count": 157,
     "metadata": {},
     "output_type": "execute_result"
    }
   ],
   "source": [
    "# ラベルを予測\n",
    "y_pred = clf.predict(X)\n",
    "\n",
    "# 正答率を計算\n",
    "accuracy =  accuracy_score(y, y_pred)\n",
    "print('正答率（Accuracy） = {:.3f}%'.format(100 * accuracy))\n",
    "\n",
    "# Precision, Recall, F1-scoreを計算\n",
    "precision, recall, f1_score, _ = precision_recall_fscore_support(y, y_pred)\n",
    "\n",
    "# カテゴリ「成功・失敗」に関するPrecision, Recall, F1-scoreを表示\n",
    "print('適合率（Precision） = {:.3f}%'.format(100 * precision[1]))\n",
    "print('再現率（Recall） = {:.3f}%'.format(100 * recall[1]))\n",
    "print('F1値（F1-score） = {:.3f}%'.format(100 * f1_score[1]))\n",
    "\n",
    "# 予測値と正解のクロス集計（混同行列）\n",
    "conf_mat = confusion_matrix(y, y_pred)\n",
    "conf_mat = pd.DataFrame(conf_mat, \n",
    "                        index=['正解 = 失敗', '正解 = 成功'], \n",
    "                        columns=['予測 = 失敗', '予測 = 成功'])\n",
    "conf_mat"
   ]
  },
  {
   "cell_type": "markdown",
   "metadata": {},
   "source": [
    "## 6.期間を除外して計算（ダミー変数とgoalを説明変数で予測）"
   ]
  },
  {
   "cell_type": "code",
   "execution_count": 158,
   "metadata": {},
   "outputs": [
    {
     "name": "stdout",
     "output_type": "stream",
     "text": [
      "SGDClassifier(alpha=0.0001, average=False, class_weight=None,\n",
      "       early_stopping=False, epsilon=0.1, eta0=0.0, fit_intercept=True,\n",
      "       l1_ratio=0.15, learning_rate='optimal', loss='log', max_iter=10000,\n",
      "       n_iter=None, n_iter_no_change=5, n_jobs=None, penalty='none',\n",
      "       power_t=0.5, random_state=1234, shuffle=True, tol=0.001,\n",
      "       validation_fraction=0.1, verbose=0, warm_start=False)\n",
      "14503.163553169345 [[-1.24984494e+02  1.21614413e+05  1.11265201e+03  7.71818341e+02\n",
      "   5.73422653e+00  3.57607448e+02  1.39038355e+03  3.76423963e+02\n",
      "   2.75945839e+03  5.55878850e+02  1.57012056e+03  9.37918858e+00\n",
      "   3.08725666e+03  2.38845162e+02  9.65188080e+02  3.75876795e+02\n",
      "   9.26540323e+02 -1.58459538e+00  1.56535049e+02  4.55348934e+00\n",
      "   3.52232093e+02  1.55507599e+01  7.36882787e+01  7.13764639e+01\n",
      "   2.02727024e+01  7.01071995e+01  1.04951880e+03  2.84796615e+01\n",
      "   4.61624151e-01 -1.00878146e+01 -6.11728763e-01  2.77032619e+00\n",
      "   5.60854525e+01  1.33660137e+01  4.36299950e+01  2.32005141e+01\n",
      "   6.46272454e+01  8.05111220e+01  1.33279962e+01  1.23751529e+04]]\n"
     ]
    }
   ],
   "source": [
    "# ロジスティック回帰\n",
    "y = df_kickstarter[\"state_num\"].values\n",
    "X = df_kickstarter.drop(['state_num','period'], axis=1).values\n",
    "clf = SGDClassifier(loss='log', penalty='none', max_iter=10000, fit_intercept=True, random_state=1234, tol=1e-3)\n",
    "print(clf.fit(X, y))\n",
    "\n",
    "# 重みを取得して表示\n",
    "w0 = clf.intercept_[0]\n",
    "print(w0,clf.coef_)"
   ]
  },
  {
   "cell_type": "code",
   "execution_count": 159,
   "metadata": {},
   "outputs": [
    {
     "name": "stdout",
     "output_type": "stream",
     "text": [
      "正答率（Accuracy） = 56.594%\n",
      "適合率（Precision） = 43.937%\n",
      "再現率（Recall） = 72.567%\n",
      "F1値（F1-score） = 54.734%\n"
     ]
    },
    {
     "data": {
      "text/html": [
       "<div>\n",
       "<style scoped>\n",
       "    .dataframe tbody tr th:only-of-type {\n",
       "        vertical-align: middle;\n",
       "    }\n",
       "\n",
       "    .dataframe tbody tr th {\n",
       "        vertical-align: top;\n",
       "    }\n",
       "\n",
       "    .dataframe thead th {\n",
       "        text-align: right;\n",
       "    }\n",
       "</style>\n",
       "<table border=\"1\" class=\"dataframe\">\n",
       "  <thead>\n",
       "    <tr style=\"text-align: right;\">\n",
       "      <th></th>\n",
       "      <th>予測 = 失敗</th>\n",
       "      <th>予測 = 成功</th>\n",
       "    </tr>\n",
       "  </thead>\n",
       "  <tbody>\n",
       "    <tr>\n",
       "      <th>正解 = 失敗</th>\n",
       "      <td>112422</td>\n",
       "      <td>124035</td>\n",
       "    </tr>\n",
       "    <tr>\n",
       "      <th>正解 = 成功</th>\n",
       "      <td>36748</td>\n",
       "      <td>97208</td>\n",
       "    </tr>\n",
       "  </tbody>\n",
       "</table>\n",
       "</div>"
      ],
      "text/plain": [
       "         予測 = 失敗  予測 = 成功\n",
       "正解 = 失敗   112422   124035\n",
       "正解 = 成功    36748    97208"
      ]
     },
     "execution_count": 159,
     "metadata": {},
     "output_type": "execute_result"
    }
   ],
   "source": [
    "# ラベルを予測\n",
    "y_pred = clf.predict(X)\n",
    "\n",
    "# 正答率を計算\n",
    "accuracy =  accuracy_score(y, y_pred)\n",
    "print('正答率（Accuracy） = {:.3f}%'.format(100 * accuracy))\n",
    "\n",
    "# Precision, Recall, F1-scoreを計算\n",
    "precision, recall, f1_score, _ = precision_recall_fscore_support(y, y_pred)\n",
    "\n",
    "# カテゴリ「成功・失敗」に関するPrecision, Recall, F1-scoreを表示\n",
    "print('適合率（Precision） = {:.3f}%'.format(100 * precision[1]))\n",
    "print('再現率（Recall） = {:.3f}%'.format(100 * recall[1]))\n",
    "print('F1値（F1-score） = {:.3f}%'.format(100 * f1_score[1]))\n",
    "\n",
    "# 予測値と正解のクロス集計（混同行列）\n",
    "conf_mat = confusion_matrix(y, y_pred)\n",
    "conf_mat = pd.DataFrame(conf_mat, \n",
    "                        index=['正解 = 失敗', '正解 = 成功'], \n",
    "                        columns=['予測 = 失敗', '予測 = 成功'])\n",
    "conf_mat"
   ]
  },
  {
   "cell_type": "code",
   "execution_count": null,
   "metadata": {},
   "outputs": [],
   "source": []
  }
 ],
 "metadata": {
  "kernelspec": {
   "display_name": "Python 3",
   "language": "python",
   "name": "python3"
  },
  "language_info": {
   "codemirror_mode": {
    "name": "ipython",
    "version": 3
   },
   "file_extension": ".py",
   "mimetype": "text/x-python",
   "name": "python",
   "nbconvert_exporter": "python",
   "pygments_lexer": "ipython3",
   "version": "3.7.3"
  }
 },
 "nbformat": 4,
 "nbformat_minor": 2
}
